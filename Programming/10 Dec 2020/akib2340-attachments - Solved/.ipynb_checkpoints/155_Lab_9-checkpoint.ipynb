{
 "cells": [
  {
   "cell_type": "markdown",
   "metadata": {},
   "source": [
    "## Lab 9: Newtons Method and approximating radicals\n",
    "\n",
    "Newtons method is a way to approximate the roots of a polynomial using an algorithm.\n",
    "\n",
    "The equation that is used repeatedly is\n",
    "$$ x_{n+1} = x_{n} + \\frac{f(x_{n})}{f'(x_{n})} $$\n",
    "where the point $x_{n+1}$ is the zero of the line tangent to the graph of f at $(x_n, f(x_n))$\n",
    "\n"
   ]
  },
  {
   "cell_type": "code",
   "execution_count": 29,
   "metadata": {},
   "outputs": [],
   "source": [
    "# Our usual import code\n",
    "import numpy as np\n",
    "import matplotlib.pyplot as plt\n",
    "from sympy import *\n",
    "%matplotlib inline\n",
    "x, y, z = symbols('x y z')\n",
    "init_printing(use_unicode=True)\n",
    "e = np.e\n",
    "pi = np.pi"
   ]
  },
  {
   "cell_type": "markdown",
   "metadata": {},
   "source": [
    "Below is the code for Newtons Method"
   ]
  },
  {
   "cell_type": "code",
   "execution_count": 30,
   "metadata": {},
   "outputs": [],
   "source": [
    "def newton(f,Df,x0,epsilon,max_iter):\n",
    "    '''Approximate solution of f(x)=0 by Newton's method.\n",
    "\n",
    "    Parameters\n",
    "    ----------\n",
    "    f : function\n",
    "        Function for which we are searching for a solution f(x)=0.\n",
    "    Df : function\n",
    "        Derivative of f(x).\n",
    "    x0 : number\n",
    "        Initial guess for a solution f(x)=0.\n",
    "    epsilon : number\n",
    "        Stopping criteria is abs(f(x)) < epsilon.\n",
    "    max_iter : integer\n",
    "        Maximum number of iterations of Newton's method.\n",
    "\n",
    "    Returns\n",
    "    -------\n",
    "    xn : number\n",
    "        Implement Newton's method: compute the linear approximation\n",
    "        of f(x) at xn and find x intercept by the formula\n",
    "            x = xn - f(xn)/Df(xn)\n",
    "        Continue until abs(f(xn)) < epsilon and return xn.\n",
    "        If Df(xn) == 0, return None. If the number of iterations\n",
    "        exceeds max_iter, then return None.\n",
    "\n",
    "    Examples\n",
    "    --------\n",
    "    >>> f = lambda x: x**2 - x - 1\n",
    "    >>> Df = lambda x: 2*x - 1\n",
    "    >>> newton(f,Df,1,1e-8,10)\n",
    "    Found solution after 5 iterations.\n",
    "    1.618033988749989\n",
    "    '''\n",
    "    xn = x0\n",
    "    for n in range(0,max_iter):\n",
    "        fxn = f.subs(x,xn)#f(xn)\n",
    "        if abs(fxn) < epsilon:\n",
    "            print('Found solution after',n,'iterations.')\n",
    "            return xn\n",
    "        Dfxn = Df.subs(x, xn)#Df(xn)\n",
    "        if Dfxn == 0:\n",
    "            print('Zero derivative. No solution found.')\n",
    "            return None\n",
    "        xn = xn - fxn/Dfxn\n",
    "    print('Exceeded maximum iterations. No solution found.')\n",
    "    return None"
   ]
  },
  {
   "cell_type": "code",
   "execution_count": 34,
   "metadata": {},
   "outputs": [
    {
     "name": "stdout",
     "output_type": "stream",
     "text": [
      "Found solution after 5 iterations.\n"
     ]
    },
    {
     "data": {
      "image/png": "[encoded data removed]",
      "text/latex": [
       "$\\displaystyle 2.0$"
      ],
      "text/plain": [
       "2.00000000000000"
      ]
     },
     "execution_count": 34,
     "metadata": {},
     "output_type": "execute_result"
    }
   ],
   "source": [
    "f = x**2 - 4\n",
    "Df = 2*x\n",
    "\n",
    "newton(f, Df, 1.0, 1e-8, 10)"
   ]
  },
  {
   "cell_type": "code",
   "execution_count": 33,
   "metadata": {},
   "outputs": [
    {
     "name": "stdout",
     "output_type": "stream",
     "text": [
      "Found solution after 5 iterations.\n"
     ]
    },
    {
     "data": {
      "image/png": "[encoded data removed]",
      "text/latex": [
       "$\\displaystyle -2.0$"
      ],
      "text/plain": [
       "-2.00000000000000"
      ]
     },
     "execution_count": 33,
     "metadata": {},
     "output_type": "execute_result"
    }
   ],
   "source": [
    "newton(f, Df, -1.0, 1e-8, 10)"
   ]
  },
  {
   "cell_type": "markdown",
   "metadata": {},
   "source": [
    "### Assignment\n",
    "use the newton() function to find the (approximate) zeros of the following functions. Note that it will only give one value so you will have to use multiple calls of the function to find each zero"
   ]
  },
  {
   "cell_type": "markdown",
   "metadata": {},
   "source": [
    "$$f(x) = \\frac{x^3}{3}- 10x + 4$$"
   ]
  },
  {
   "cell_type": "code",
   "execution_count": 35,
   "metadata": {},
   "outputs": [
    {
     "data": {
      "image/png": "[encoded data removed]",
      "text/plain": [
       "<Figure size 432x288 with 1 Axes>"
      ]
     },
     "metadata": {
      "needs_background": "light"
     },
     "output_type": "display_data"
    },
    {
     "data": {
      "text/plain": [
       "<sympy.plotting.plot.Plot at 0x10bdb5f8908>"
      ]
     },
     "execution_count": 35,
     "metadata": {},
     "output_type": "execute_result"
    }
   ],
   "source": [
    "plot((x**3)/3 - 10*x + 4) # run this to get an idea of what the function looks like"
   ]
  },
  {
   "cell_type": "code",
   "execution_count": 37,
   "metadata": {},
   "outputs": [
    {
     "name": "stdout",
     "output_type": "stream",
     "text": [
      "Found solution after 4 iterations.\n"
     ]
    },
    {
     "data": {
      "image/png": "[encoded data removed]",
      "text/latex": [
       "$\\displaystyle 0.402168213129095$"
      ],
      "text/plain": [
       "0.402168213129095"
      ]
     },
     "execution_count": 37,
     "metadata": {},
     "output_type": "execute_result"
    }
   ],
   "source": [
    "f=(x**3)/3-10*x+4\n",
    "Df=diff(f, x)\n",
    "newton(f, Df, 2.0, 1e-8, 10)"
   ]
  },
  {
   "cell_type": "markdown",
   "metadata": {
    "collapsed": true
   },
   "source": [
    "### Using Newtons method to approximate square roots\n",
    "\n",
    "We can use this process to calculate square roots. For example, say we want to find $\\sqrt{2}$\n",
    "\n",
    "$\\sqrt{2}$ is a solution to the equation $x^2 - 2 = 0$ which means that it is a zero of  $x^2 - 2$\n",
    "\n",
    "So by applying Newtons method we can get our approximation. \n",
    "I made a new function that is simpler to use for this purpose\n",
    "Lets see what we get"
   ]
  },
  {
   "cell_type": "code",
   "execution_count": 38,
   "metadata": {},
   "outputs": [],
   "source": [
    "def newtonSqrt(n, howmany):\n",
    "    ''' Approximates a square root using Newtons method\n",
    "    \n",
    "    Parameters\n",
    "    ----------\n",
    "    n : number\n",
    "        the number to approximate the squaer root of.\n",
    "    howmany : number\n",
    "        how many times to calculate the approximation\n",
    "        \n",
    "    Returns\n",
    "    -------\n",
    "    betterApprox : number\n",
    "        The approximation of the square root\n",
    "    '''\n",
    "    approx = 0.5 * n\n",
    "    for i in range(howmany):\n",
    "        betterapprox = 0.5 * (approx + n/approx)\n",
    "        approx = betterapprox\n",
    "    return betterapprox"
   ]
  },
  {
   "cell_type": "code",
   "execution_count": 41,
   "metadata": {},
   "outputs": [
    {
     "data": {
      "image/png": "[encoded data removed]",
      "text/latex": [
       "$\\displaystyle 1.414213562373095$"
      ],
      "text/plain": [
       "1.414213562373095"
      ]
     },
     "execution_count": 41,
     "metadata": {},
     "output_type": "execute_result"
    }
   ],
   "source": [
    "newtonSqrt(2, 10)"
   ]
  },
  {
   "cell_type": "markdown",
   "metadata": {},
   "source": [
    "### Assignment\n",
    "Use this method to approximate square roots of different numbers.\n",
    "Is there a way to keep track of how close an approximation gets by changing your howmany value?\n",
    "\n",
    "Bonus assignment:\n",
    "This function I made is pretty inefficient, can you make it better so if there is little to no change in the \n",
    "approximation it returns faster and more efficently?"
   ]
  },
  {
   "cell_type": "code",
   "execution_count": 45,
   "metadata": {},
   "outputs": [
    {
     "name": "stdout",
     "output_type": "stream",
     "text": [
      "1.75\n",
      "1.7321428571428572\n",
      "1.7320508100147274\n",
      "1.7320508075688772\n",
      "1.7320508075688772\n",
      "1.7320508075688772\n",
      "1.7320508075688772\n",
      "1.7320508075688772\n",
      "1.7320508075688772\n",
      "1.7320508075688772\n",
      "6.0\n",
      "4.666666666666667\n",
      "4.476190476190476\n",
      "4.472137791286727\n",
      "4.472135954999956\n",
      "4.47213595499958\n",
      "4.47213595499958\n",
      "4.47213595499958\n",
      "4.47213595499958\n",
      "4.47213595499958\n"
     ]
    }
   ],
   "source": [
    "for i in range(10):\n",
    "    print(newtonSqrt(3, (i+1)))\n",
    "    \n",
    "for i in range(10):\n",
    "    print(newtonSqrt(20, (i+1)))"
   ]
  }
 ],
 "metadata": {
  "kernelspec": {
   "display_name": "Python 3",
   "language": "python",
   "name": "python3"
  },
  "language_info": {
   "codemirror_mode": {
    "name": "ipython",
    "version": 3
   },
   "file_extension": ".py",
   "mimetype": "text/x-python",
   "name": "python",
   "nbconvert_exporter": "python",
   "pygments_lexer": "ipython3",
   "version": "3.7.5"
  }
 },
 "nbformat": 4,
 "nbformat_minor": 2
}
