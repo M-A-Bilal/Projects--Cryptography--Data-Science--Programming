{
 "cells": [
  {
   "cell_type": "markdown",
   "metadata": {},
   "source": [
    "## Lab 8: Optomization problems\n",
    "\n",
    "Optomization problems are at their core finding out what value x needs to be such that f(x) is either a maximum or a minimum\n",
    "\n",
    "To do this we need to \n",
    "* take our function and find its derivative\n",
    "* Set the derivative equal to 0 and solve that\n",
    "* Plug the resulting x value back into the original equation to find the resulting max or min"
   ]
  },
  {
   "cell_type": "code",
   "execution_count": 18,
   "metadata": {},
   "outputs": [],
   "source": [
    "import numpy as np\n",
    "import matplotlib.pyplot as plt\n",
    "from sympy import *\n",
    "%matplotlib inline\n",
    "x, y, z, h = symbols('x y z h')\n",
    "init_printing(use_unicode=True)\n",
    "e = np.e\n",
    "pi = np.pi"
   ]
  },
  {
   "cell_type": "markdown",
   "metadata": {},
   "source": [
    "Sample problem\n",
    "\n",
    "A gardener wants to make a rectangular enclosure\n",
    " using a wall as one side and 120 m of fencing for\n",
    " the other three sides. Express the area in terms of x,\n",
    " and find the value of x that gives the greatest area."
   ]
  },
  {
   "cell_type": "code",
   "execution_count": 3,
   "metadata": {},
   "outputs": [
    {
     "name": "stdout",
     "output_type": "stream",
     "text": [
      "120 - 4*x\n"
     ]
    },
    {
     "data": {
      "image/png": "[encoded data removed]",
      "text/latex": [
       "$\\displaystyle \\left[ 30\\right]$"
      ],
      "text/plain": [
       "[30]"
      ]
     },
     "execution_count": 3,
     "metadata": {},
     "output_type": "execute_result"
    }
   ],
   "source": [
    "# To calculate the dimensions, we know that the sum of all sides is the perimeter\n",
    "# and the length times width is the area. We want to maximize area so we take the derivative\n",
    "# of that\n",
    "length = x\n",
    "width = 120 - 2* x\n",
    "area = length * width\n",
    "deriv = diff(area, x)\n",
    "print (deriv)\n",
    "ans = solve(deriv, x)\n",
    "ans"
   ]
  },
  {
   "cell_type": "markdown",
   "metadata": {},
   "source": [
    "The steps are first draw yourself a picture! Knowing what is going on will help you\n",
    "Next get your equations.\n",
    "Take the derivative of the equation you want to optimize\n",
    "solve that derivative for zero"
   ]
  },
  {
   "cell_type": "markdown",
   "metadata": {},
   "source": [
    "### Assignment\n",
    "    Solve the following optomization problems"
   ]
  },
  {
   "cell_type": "markdown",
   "metadata": {},
   "source": [
    "Find two positive numbers such that the sum of the first and twice the second is 100 and\n",
    " their product is a maximum."
   ]
  },
  {
   "cell_type": "code",
   "execution_count": 16,
   "metadata": {},
   "outputs": [
    {
     "name": "stdout",
     "output_type": "stream",
     "text": [
      "First derivative =  100 - 4*y\n",
      "y =  25\n",
      "Second derivative =  -4\n",
      "x =  50\n",
      "Product of both numbers =  1250\n"
     ]
    }
   ],
   "source": [
    "x = -2*y + 100\n",
    "P = x*y \n",
    "\n",
    "first_deriv = diff (P, y)\n",
    "print(\"First derivative = \",first_deriv)\n",
    "\n",
    "y_value = solve(first_deriv, y)\n",
    "print(\"y = \",y_value[0])\n",
    "\n",
    "# check if y=25 is maximum by using 2nd derivative test\n",
    "second_deriv = diff(first_deriv, y)\n",
    "print(\"Second derivative = \", second_deriv)\n",
    "\n",
    "#Solve x with y = 25\n",
    "x_value = -2*y_value[0] + 100\n",
    "print(\"x = \", x_value)\n",
    "\n",
    "print(\"Product of both numbers = \",x_value*y_value[0])"
   ]
  },
  {
   "cell_type": "markdown",
   "metadata": {},
   "source": [
    "A manufacturer wants to design an open box having a square base and a surface area\n",
    " of 108 square inches. What dimensions will produce a box with maximum volume?"
   ]
  },
  {
   "cell_type": "code",
   "execution_count": 41,
   "metadata": {},
   "outputs": [
    {
     "name": "stdout",
     "output_type": "stream",
     "text": [
      "Surface area =  4*h*x + x**2 - 108\n",
      "h =  [-x/4 + 27/x]\n",
      "Volume (in terms of x) =  -x**3/4 + 27*x\n",
      "Derivative =  27 - 3*x**2/4\n",
      "[-6, 6]\n",
      "Since we cannot have a negative distance, the length of the box is =  6  inches\n",
      "h =  3  inches\n",
      "Volume =  108  cubic inches\n"
     ]
    }
   ],
   "source": [
    "volume = x**2 * h\n",
    "area_bottom = x**2\n",
    "area_side = x*h\n",
    "surface_area = 4*area_side + area_bottom - 108\n",
    "print(\"Surface area = \", surface_area)\n",
    "\n",
    "height = solve(surface_area, h)\n",
    "print(\"h = \", height)\n",
    "\n",
    "volume_x = x**2 * height[0] #x**2*(-x/4 + 27/x)\n",
    "volume_x = 27*x-(x**3)/4\n",
    "print(\"Volume (in terms of x) = \", volume_x)\n",
    "\n",
    "deriv = diff(volume_x, x)\n",
    "print(\"Derivative = \", deriv)\n",
    "solve_x = solve(deriv, x)\n",
    "print(solve_x)\n",
    "print(\"Since we cannot have a negative distance, the length of the box is = \", solve_x[1], \" inches\")\n",
    "\n",
    "#now solve it for h\n",
    "solve_h = height[0].subs(x, solve_x[1])\n",
    "print(\"h = \", solve_h, \" inches\")\n",
    "\n",
    "volume = solve_x[1]**2 * solve_h\n",
    "print(\"Volume = \", volume, \" cubic inches\")"
   ]
  },
  {
   "cell_type": "markdown",
   "metadata": {},
   "source": [
    "A rectangular page is to contain 24 sq. in. of print. The margins at the top and bottom of\n",
    " the page are each 1 $\\frac{1}{2}$ inches. The margins on each side are 1 inch. What should the\n",
    " dimensions of the page be so that the least amount of paper is used?"
   ]
  },
  {
   "cell_type": "code",
   "execution_count": 50,
   "metadata": {},
   "outputs": [
    {
     "name": "stdout",
     "output_type": "stream",
     "text": [
      "Area of page =  (3.0 + 24/x_printed)*(x_printed + 2)\n",
      "Derivative =  3.0 + 24/x_printed - 24*(x_printed + 2)/x_printed**2\n",
      "Width of printed page =  4.00000000000000\n",
      "Width of page =  6.00000000000000\n",
      "Height of printed page =  6.00000000000000\n",
      "Height of page =  9.00000000000000\n"
     ]
    }
   ],
   "source": [
    "x_printed = symbols('x_printed')\n",
    "#Let x is width and y is height of printed part\n",
    "y_printed = 24/x_printed\n",
    "x_page = x_printed+2*1\n",
    "y_page = y_printed+2*1.5\n",
    "\n",
    "area_page = x_page*y_page\n",
    "print(\"Area of page = \",area_page)\n",
    "\n",
    "deriv = diff(area_page, x_printed)\n",
    "print(\"Derivative = \", deriv)\n",
    "\n",
    "x_printed = solve(deriv, x_printed)\n",
    "print(\"Width of printed page = \", x_printed[1])\n",
    "print(\"Width of page = \", x_printed[1]+2)\n",
    "print(\"Height of printed page = \", 24/x_printed[1])\n",
    "print(\"Height of page = \", 24/x_printed[1]+2*1.5)"
   ]
  },
  {
   "cell_type": "markdown",
   "metadata": {},
   "source": [
    "A manufacturer can produce a pair of earrings at a cost of $3.  The earrings have been selling for $5 per pair, and at this price, consumers have been buying 4,000 per month.  The manufacturer is planning to raise the price of the earrings and estimates that for each $1 increase in the price, 400 fewer pairs of earrings will be sold each month.  At what price should the manufacturer sell the earrings to maximize profit?"
   ]
  },
  {
   "cell_type": "code",
   "execution_count": 66,
   "metadata": {},
   "outputs": [
    {
     "name": "stdout",
     "output_type": "stream",
     "text": [
      "Income =  (4000.0 - 400.0*x)*(x + 5.0)\n",
      "Profit =  -400.0*x**2 + 1997.0*x + 20000.0\n",
      "Derivative =  1997.0 - 800.0*x\n",
      "Profit =  2.49625000000000\n",
      "Cost per item =  7.48875000000000\n"
     ]
    }
   ],
   "source": [
    "x, y, z, h = symbols('x y z h')\n",
    "#x = price increase\n",
    "#y = corresponding decrease in sales per $ increase\n",
    "y= 400.0*x\n",
    "Cost = 3.0*x\n",
    "Income = (5.0 + x)*(4000.0 - y)\n",
    "\n",
    "print(\"Income = \",Income)\n",
    "\n",
    "Profit = simplify(Income - Cost)\n",
    "\n",
    "print(\"Profit = \", Profit)\n",
    "\n",
    "deriv = diff(Profit, x)\n",
    "print(\"Derivative = \", deriv)\n",
    "\n",
    "x = solve(deriv, x)\n",
    "print(\"Profit = \", x[0])\n",
    "print(\"Cost per item = \", 3*x[0])"
   ]
  },
  {
   "cell_type": "code",
   "execution_count": null,
   "metadata": {},
   "outputs": [],
   "source": []
  }
 ],
 "metadata": {
  "kernelspec": {
   "display_name": "Python 3",
   "language": "python",
   "name": "python3"
  },
  "language_info": {
   "codemirror_mode": {
    "name": "ipython",
    "version": 3
   },
   "file_extension": ".py",
   "mimetype": "text/x-python",
   "name": "python",
   "nbconvert_exporter": "python",
   "pygments_lexer": "ipython3",
   "version": "3.7.5"
  }
 },
 "nbformat": 4,
 "nbformat_minor": 2
}
