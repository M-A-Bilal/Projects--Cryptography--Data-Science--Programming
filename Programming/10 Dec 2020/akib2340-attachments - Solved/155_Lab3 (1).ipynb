{
 "cells": [
  {
   "cell_type": "markdown",
   "metadata": {},
   "source": [
    "## Lab 3: Limits and continuity\n",
    "\n",
    "Today we are going to explore how to take a limit using all 3 methods. \n",
    "\n",
    "First we used matplotlib.pyplot to graph the function around the region we wanted to observe.\n",
    "Second we used the limit function from sympy to calculate the limit.\n",
    "The third way is to use a table to see what happens as we get closer and closer to the value that x approaches"
   ]
  },
  {
   "cell_type": "code",
   "execution_count": 1,
   "metadata": {},
   "outputs": [],
   "source": [
    "#Our usual inport block we need to run first.\n",
    "import numpy as np\n",
    "import matplotlib.pyplot as plt\n",
    "from sympy import *\n",
    "x = symbols('x')\n",
    "init_printing(use_unicode=True)\n",
    "%matplotlib inline"
   ]
  },
  {
   "cell_type": "markdown",
   "metadata": {},
   "source": [
    "To evaluate a limit numerically, that is with a table we need to put x values into our function that get closer and closer to the x value of the limit.\n",
    "\n",
    "We will do this using a loop. A loop is a section of code that we run repeatedly as long as a certain condition is true. \n",
    "\n",
    "For the loop below, I want to get the y values 20 times, note the syntax and what the code does when you run it."
   ]
  },
  {
   "cell_type": "code",
   "execution_count": 2,
   "metadata": {},
   "outputs": [
    {
     "name": "stdout",
     "output_type": "stream",
     "text": [
      "The count is:  1\n",
      "The count is:  2\n",
      "The count is:  3\n",
      "The count is:  4\n",
      "The count is:  5\n",
      "The count is:  6\n",
      "The count is:  7\n",
      "The count is:  8\n",
      "The count is:  9\n",
      "The count is:  10\n",
      "The count is:  11\n",
      "The count is:  12\n",
      "The count is:  13\n",
      "The count is:  14\n",
      "The count is:  15\n",
      "The count is:  16\n",
      "The count is:  17\n",
      "The count is:  18\n",
      "The count is:  19\n",
      "The count is:  20\n"
     ]
    }
   ],
   "source": [
    "count = 1\n",
    "while count < 21:\n",
    "    print('The count is: ', count)\n",
    "    count += 1"
   ]
  },
  {
   "cell_type": "markdown",
   "metadata": {},
   "source": [
    "When using loops notice I have to be careful. If I don't set it up so the condition to use the loop is eventually broken, I will get stuck in the loop forever. Thsi is called an infinite loop.\n",
    "\n",
    "Also notice that to include 20 in my count, I had to say the count is less than 21. This is because count changes inside the loop. See what happens if you switch the order of the 2 statements in the loop."
   ]
  },
  {
   "cell_type": "markdown",
   "metadata": {},
   "source": [
    "Assignment:\n",
    "\n",
    "Write a loop that will print out the first 10 square numbers"
   ]
  },
  {
   "cell_type": "code",
   "execution_count": 5,
   "metadata": {},
   "outputs": [
    {
     "name": "stdout",
     "output_type": "stream",
     "text": [
      "0\n",
      "1\n",
      "4\n",
      "9\n",
      "16\n",
      "25\n",
      "36\n",
      "49\n",
      "64\n",
      "81\n"
     ]
    }
   ],
   "source": [
    "# code to print the first 10 square numbers goes here\n",
    "i=0\n",
    "while i in range(10):\n",
    "    print(i*i)\n",
    "    i+=1\n"
   ]
  },
  {
   "cell_type": "markdown",
   "metadata": {},
   "source": [
    "Now we are going to use a loop to numerically calculate our limit\n",
    "\n",
    "for this example, we want to calculate $$\\lim_{x\\to4} 3x + 5$$"
   ]
  },
  {
   "cell_type": "code",
   "execution_count": 25,
   "metadata": {},
   "outputs": [
    {
     "name": "stdout",
     "output_type": "stream",
     "text": [
      "When x is 3 f(x) is 14\n",
      "When x is 3.9 f(x) is 16.7\n",
      "When x is 3.99 f(x) is 16.97\n",
      "When x is 3.999 f(x) is 16.997\n",
      "When x is 3.9999 f(x) is 16.999699999999997\n",
      "When x is 3.99999 f(x) is 16.999969999999998\n",
      "When x is 3.999999 f(x) is 16.999997\n",
      "When x is 3.9999999 f(x) is 16.9999997\n",
      "When x is 3.99999999 f(x) is 16.99999997\n",
      "When x is 3.999999999 f(x) is 16.999999997\n",
      "When x is 3.9999999999 f(x) is 16.9999999997\n"
     ]
    }
   ],
   "source": [
    "delta = 1\n",
    "point = 4 - delta\n",
    "counter = 0\n",
    "while counter < 11:\n",
    "    value = 3 * point + 5\n",
    "    print('When x is' , point, 'f(x) is' , value)\n",
    "    delta = delta / 10\n",
    "    point = 4 - delta\n",
    "    counter += 1\n"
   ]
  },
  {
   "cell_type": "markdown",
   "metadata": {},
   "source": [
    "Notice that this is a left sided limit. In the space below make a couple minor changes to calculate the right sided limit. Also verify that the limit is actually 17."
   ]
  },
  {
   "cell_type": "code",
   "execution_count": 9,
   "metadata": {},
   "outputs": [
    {
     "name": "stdout",
     "output_type": "stream",
     "text": [
      "When x is 5 f(x) is 20\n",
      "When x is 4.1 f(x) is 17.299999999999997\n",
      "When x is 4.01 f(x) is 17.03\n",
      "When x is 4.001 f(x) is 17.003\n",
      "When x is 4.0001 f(x) is 17.0003\n",
      "When x is 4.00001 f(x) is 17.00003\n",
      "When x is 4.000001 f(x) is 17.000003\n",
      "When x is 4.0000001 f(x) is 17.0000003\n",
      "When x is 4.00000001 f(x) is 17.00000003\n",
      "When x is 4.000000001 f(x) is 17.000000003\n",
      "When x is 4.0000000001 f(x) is 17.0000000003\n"
     ]
    }
   ],
   "source": [
    "delta = 1\n",
    "point = 4 + delta\n",
    "counter = 0\n",
    "while counter < 11:\n",
    "    value = 3 * point + 5\n",
    "    print('When x is' , point, 'f(x) is' , value)\n",
    "    delta = delta / 10\n",
    "    point = 4 + delta\n",
    "    counter += 1"
   ]
  },
  {
   "cell_type": "markdown",
   "metadata": {},
   "source": [
    "### Assignment: Analyze the following limits numerically. Verify the limits either with a graph or the limit function from sympy\n",
    "\n",
    "$$lim_{x\\to2} 2x + 4$$\n"
   ]
  },
  {
   "cell_type": "code",
   "execution_count": 23,
   "metadata": {},
   "outputs": [
    {
     "name": "stdout",
     "output_type": "stream",
     "text": [
      "When x is 1 f(x) is 6\n",
      "When x is 1.9 f(x) is 7.8\n",
      "When x is 1.99 f(x) is 7.98\n",
      "When x is 1.999 f(x) is 7.998\n",
      "When x is 1.9999 f(x) is 7.9998000000000005\n",
      "When x is 1.99999 f(x) is 7.99998\n",
      "When x is 1.999999 f(x) is 7.999998\n",
      "When x is 1.9999999 f(x) is 7.999999799999999\n",
      "When x is 1.99999999 f(x) is 7.99999998\n",
      "When x is 1.999999999 f(x) is 7.999999998\n",
      "When x is 1.9999999999 f(x) is 7.9999999998\n",
      "When x is 3 f(x) is 10\n",
      "When x is 2.1 f(x) is 8.2\n",
      "When x is 2.01 f(x) is 8.02\n",
      "When x is 2.001 f(x) is 8.001999999999999\n",
      "When x is 2.0001 f(x) is 8.0002\n",
      "When x is 2.00001 f(x) is 8.00002\n",
      "When x is 2.000001 f(x) is 8.000002\n",
      "When x is 2.0000001 f(x) is 8.000000199999999\n",
      "When x is 2.00000001 f(x) is 8.00000002\n",
      "When x is 2.000000001 f(x) is 8.000000002\n",
      "When x is 2.0000000001 f(x) is 8.0000000002\n"
     ]
    },
    {
     "data": {
      "image/png": "[encoded data removed]",
      "text/latex": [
       "$\\displaystyle \\mathbb{R}$"
      ],
      "text/plain": [
       "ℝ"
      ]
     },
     "execution_count": 23,
     "metadata": {},
     "output_type": "execute_result"
    }
   ],
   "source": [
    "delta = 1\n",
    "point = 2 - delta\n",
    "counter = 0\n",
    "while counter < 11:\n",
    "    value = 2 * point + 4\n",
    "    print('When x is' , point, 'f(x) is' , value)\n",
    "    delta = delta / 10\n",
    "    point = 2 - delta\n",
    "    counter += 1\n",
    "\n",
    "delta = 1\n",
    "point = 2 + delta\n",
    "counter = 0\n",
    "while counter < 11:\n",
    "    value = 2 * point + 4\n",
    "    print('When x is' , point, 'f(x) is' , value)\n",
    "    delta = delta / 10\n",
    "    point = 2 + delta\n",
    "    counter += 1\n",
    "    \n"
   ]
  },
  {
   "cell_type": "markdown",
   "metadata": {},
   "source": [
    "$$lim_{x\\to-2} \\frac{x^2 + 3x +2}{x+2}$$"
   ]
  },
  {
   "cell_type": "code",
   "execution_count": 22,
   "metadata": {},
   "outputs": [
    {
     "name": "stdout",
     "output_type": "stream",
     "text": [
      "When x is -3 f(x) is -2.0\n",
      "When x is -2.1 f(x) is -1.0999999999999934\n",
      "When x is -2.01 f(x) is -1.009999999999977\n",
      "When x is -2.001 f(x) is -1.0009999999996957\n",
      "When x is -2.0001 f(x) is -1.0000999999949511\n",
      "When x is -2.00001 f(x) is -1.0000099999564185\n",
      "When x is -2.000001 f(x) is -1.0000010000889004\n",
      "When x is -2.0000001 f(x) is -1.0000000932587343\n",
      "When x is -2.00000001 f(x) is -1.0\n",
      "When x is -2.000000001 f(x) is -1.0\n",
      "When x is -2.0000000001 f(x) is -1.0\n",
      "When x is -1 f(x) is 0.0\n",
      "When x is -1.9 f(x) is -0.8999999999999934\n",
      "When x is -1.99 f(x) is -0.9899999999999567\n",
      "When x is -1.999 f(x) is -0.998999999999416\n",
      "When x is -1.9999 f(x) is -0.9998999999983873\n",
      "When x is -1.99999 f(x) is -0.9999899999547638\n",
      "When x is -1.999999 f(x) is -0.9999990001331439\n",
      "When x is -1.9999999 f(x) is -0.9999999000799279\n",
      "When x is -1.99999999 f(x) is -1.0\n",
      "When x is -1.999999999 f(x) is -1.0\n",
      "When x is -1.9999999999 f(x) is -1.0\n"
     ]
    },
    {
     "data": {
      "image/png": "[encoded data removed]",
      "text/latex": [
       "$\\displaystyle \\left(-\\infty, -2\\right) \\cup \\left(-2, \\infty\\right)$"
      ],
      "text/plain": [
       "(-∞, -2) ∪ (-2, ∞)"
      ]
     },
     "execution_count": 22,
     "metadata": {},
     "output_type": "execute_result"
    }
   ],
   "source": [
    "delta = 1\n",
    "point = -2 - delta\n",
    "counter = 0\n",
    "while counter < 11:\n",
    "    value = (pow(point,2) + (3*point) + 2)/(point + 2)\n",
    "    print('When x is' , point, 'f(x) is' , value)\n",
    "    delta = delta / 10\n",
    "    point = -2 - delta\n",
    "    counter += 1\n",
    "\n",
    "delta = 1\n",
    "point = -2 + delta\n",
    "counter = 0\n",
    "while counter < 11:\n",
    "    value = (pow(point,2) + (3*point) + 2)/(point + 2)\n",
    "    print('When x is' , point, 'f(x) is' , value)\n",
    "    delta = delta / 10\n",
    "    point = -2 + delta\n",
    "    counter += 1\n",
    "    \n"
   ]
  },
  {
   "cell_type": "markdown",
   "metadata": {},
   "source": [
    "$$lim_{x\\to\\pi}  cos(x)$$"
   ]
  },
  {
   "cell_type": "code",
   "execution_count": 13,
   "metadata": {},
   "outputs": [
    {
     "name": "stdout",
     "output_type": "stream",
     "text": [
      "When x is 2.141592653589793 f(x) is -0.540302305868140\n",
      "When x is 3.041592653589793 f(x) is -0.995004165278026\n",
      "When x is 3.1315926535897933 f(x) is -0.999950000416665\n",
      "When x is 3.1405926535897932 f(x) is -0.999999500000042\n",
      "When x is 3.141492653589793 f(x) is -0.999999995000000\n",
      "When x is 3.141582653589793 f(x) is -0.999999999950000\n",
      "When x is 3.141591653589793 f(x) is -0.999999999999500\n",
      "When x is 3.1415925535897933 f(x) is -0.999999999999995\n",
      "When x is 3.141592643589793 f(x) is -1.00000000000000\n",
      "When x is 3.141592652589793 f(x) is -1.00000000000000\n",
      "When x is 3.141592653489793 f(x) is -1.00000000000000\n",
      "When x is 4.141592653589793 f(x) is -0.540302305868140\n",
      "When x is 3.241592653589793 f(x) is -0.995004165278026\n",
      "When x is 3.151592653589793 f(x) is -0.999950000416665\n",
      "When x is 3.142592653589793 f(x) is -0.999999500000042\n",
      "When x is 3.1416926535897933 f(x) is -0.999999995000000\n",
      "When x is 3.141602653589793 f(x) is -0.999999999950000\n",
      "When x is 3.1415936535897933 f(x) is -0.999999999999500\n",
      "When x is 3.141592753589793 f(x) is -0.999999999999995\n",
      "When x is 3.141592663589793 f(x) is -1.00000000000000\n",
      "When x is 3.141592654589793 f(x) is -1.00000000000000\n",
      "When x is 3.141592653689793 f(x) is -1.00000000000000\n"
     ]
    }
   ],
   "source": [
    "delta = 1\n",
    "point = np.pi - delta\n",
    "counter = 0\n",
    "while counter < 11:\n",
    "    value = cos(point)\n",
    "    print('When x is' , point, 'f(x) is' , value)\n",
    "    delta = delta / 10\n",
    "    point = np.pi - delta\n",
    "    counter += 1\n",
    "\n",
    "delta = 1\n",
    "point = np.pi + delta\n",
    "counter = 0\n",
    "while counter < 11:\n",
    "    value = cos(point)\n",
    "    print('When x is' , point, 'f(x) is' , value)\n",
    "    delta = delta / 10\n",
    "    point = np.pi + delta\n",
    "    counter += 1"
   ]
  },
  {
   "cell_type": "markdown",
   "metadata": {},
   "source": [
    "The definition of continuity is that f(x) is continuous at a point c if $$lim_{x\\to c} f(x) = f(c)$$\n",
    "\n",
    "### Assignment: For all limits in this lab, state weather they are continous at the given points where the limit is taken"
   ]
  },
  {
   "cell_type": "code",
   "execution_count": 31,
   "metadata": {},
   "outputs": [
    {
     "data": {
      "image/png": "[encoded data removed]",
      "text/latex": [
       "$\\displaystyle \\mathbb{R}$"
      ],
      "text/plain": [
       "ℝ"
      ]
     },
     "execution_count": 31,
     "metadata": {},
     "output_type": "execute_result"
    }
   ],
   "source": [
    "from sympy import Symbol, S\n",
    "from sympy.calculus.util import continuous_domain\n",
    "x = Symbol(\"x\")\n",
    "f = 3*x+5\n",
    "continuous_domain(f, x, S.Reals)"
   ]
  },
  {
   "cell_type": "code",
   "execution_count": 32,
   "metadata": {},
   "outputs": [
    {
     "data": {
      "image/png": "[encoded data removed]",
      "text/latex": [
       "$\\displaystyle \\mathbb{R}$"
      ],
      "text/plain": [
       "ℝ"
      ]
     },
     "execution_count": 32,
     "metadata": {},
     "output_type": "execute_result"
    }
   ],
   "source": [
    "f = 2*x+4\n",
    "continuous_domain(f, x, S.Reals)"
   ]
  },
  {
   "cell_type": "code",
   "execution_count": 33,
   "metadata": {},
   "outputs": [
    {
     "data": {
      "image/png": "[encoded data removed]",
      "text/latex": [
       "$\\displaystyle \\left(-\\infty, -2\\right) \\cup \\left(-2, \\infty\\right)$"
      ],
      "text/plain": [
       "(-∞, -2) ∪ (-2, ∞)"
      ]
     },
     "execution_count": 33,
     "metadata": {},
     "output_type": "execute_result"
    }
   ],
   "source": [
    "f = (pow(x,2) + (3*x) + 2)/(x + 2)\n",
    "continuous_domain(f, x, S.Reals)"
   ]
  },
  {
   "cell_type": "code",
   "execution_count": 34,
   "metadata": {},
   "outputs": [
    {
     "data": {
      "image/png": "[encoded data removed]",
      "text/latex": [
       "$\\displaystyle \\mathbb{R}$"
      ],
      "text/plain": [
       "ℝ"
      ]
     },
     "execution_count": 34,
     "metadata": {},
     "output_type": "execute_result"
    }
   ],
   "source": [
    "f = cos(x)\n",
    "continuous_domain(f, x, S.Reals)"
   ]
  }
 ],
 "metadata": {
  "kernelspec": {
   "display_name": "Python 3",
   "language": "python",
   "name": "python3"
  },
  "language_info": {
   "codemirror_mode": {
    "name": "ipython",
    "version": 3
   },
   "file_extension": ".py",
   "mimetype": "text/x-python",
   "name": "python",
   "nbconvert_exporter": "python",
   "pygments_lexer": "ipython3",
   "version": "3.7.5"
  }
 },
 "nbformat": 4,
 "nbformat_minor": 2
}
