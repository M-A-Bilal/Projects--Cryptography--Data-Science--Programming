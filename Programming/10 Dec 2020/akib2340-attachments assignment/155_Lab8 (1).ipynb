{
 "cells": [
  {
   "cell_type": "markdown",
   "metadata": {},
   "source": [
    "## Lab 8: Optomization problems\n",
    "\n",
    "Optomization problems are at their core finding out what value x needs to be such that f(x) is either a maximum or a minimum\n",
    "\n",
    "To do this we need to \n",
    "* take our function and find its derivative\n",
    "* Set the derivative equal to 0 and solve that\n",
    "* Plug the resulting x value back into the original equation to find the resulting max or min"
   ]
  },
  {
   "cell_type": "code",
   "execution_count": null,
   "metadata": {
    "collapsed": true
   },
   "outputs": [],
   "source": [
    "import numpy as np\n",
    "import matplotlib.pyplot as plt\n",
    "from sympy import *\n",
    "%matplotlib inline\n",
    "x, y, z = symbols('x y z')\n",
    "init_printing(use_unicode=True)\n",
    "e = np.e\n",
    "pi = np.pi"
   ]
  },
  {
   "cell_type": "markdown",
   "metadata": {},
   "source": [
    "Sample problem\n",
    "\n",
    "A gardener wants to make a rectangular enclosure\n",
    " using a wall as one side and 120 m of fencing for\n",
    " the other three sides. Express the area in terms of x,\n",
    " and find the value of x that gives the greatest area."
   ]
  },
  {
   "cell_type": "code",
   "execution_count": null,
   "metadata": {},
   "outputs": [],
   "source": [
    "# To calculate the dimensions, we know that the sum of all sides is the perimeter\n",
    "# and the length times width is the area. We want to maximize area so we take the derivative\n",
    "# of that\n",
    "length = x\n",
    "width = 120 - 2* x\n",
    "area = length * width\n",
    "deriv = diff(area, x)\n",
    "ans = solve(deriv, x)\n",
    "ans"
   ]
  },
  {
   "cell_type": "markdown",
   "metadata": {},
   "source": [
    "The steps are first draw yourself a picture! Knowing what is going on will help you\n",
    "Next get your equations.\n",
    "Take the derivative of the equation you want to optimize\n",
    "solve that derivative for zero"
   ]
  },
  {
   "cell_type": "markdown",
   "metadata": {},
   "source": [
    "### Assignment\n",
    "    Solve the following optomization problems"
   ]
  },
  {
   "cell_type": "markdown",
   "metadata": {},
   "source": [
    "Find two positive numbers such that the sum of the first and twice the second is 100 and\n",
    " their product is a maximum."
   ]
  },
  {
   "cell_type": "code",
   "execution_count": null,
   "metadata": {
    "collapsed": true
   },
   "outputs": [],
   "source": []
  },
  {
   "cell_type": "markdown",
   "metadata": {},
   "source": [
    "A manufacturer wants to design an open box having a square base and a surface area\n",
    " of 108 square inches. What dimensions will produce a box with maximum volume?"
   ]
  },
  {
   "cell_type": "code",
   "execution_count": null,
   "metadata": {
    "collapsed": true
   },
   "outputs": [],
   "source": []
  },
  {
   "cell_type": "markdown",
   "metadata": {},
   "source": [
    "A rectangular page is to contain 24 sq. in. of print. The margins at the top and bottom of\n",
    " the page are each 1 $\\frac{1}{2}$ inches. The margins on each side are 1 inch. What should the\n",
    " dimensions of the page be so that the least amount of paper is used?"
   ]
  },
  {
   "cell_type": "code",
   "execution_count": null,
   "metadata": {
    "collapsed": true
   },
   "outputs": [],
   "source": []
  },
  {
   "attachments": {},
   "cell_type": "markdown",
   "metadata": {},
   "source": [
    "A manufacturer can produce a pair of earrings at a cost of $3.  The earrings have been selling for $5 per pair, and at this price, consumers have been buying 4,000 per month.  The manufacturer is planning to raise the price of the earrings and estimates that for each $1 increase in the price, 400 fewer pairs of earrings will be sold each month.  At what price should the manufacturer sell the earrings to maximize profit?"
   ]
  },
  {
   "cell_type": "code",
   "execution_count": null,
   "metadata": {
    "collapsed": true
   },
   "outputs": [],
   "source": []
  }
 ],
 "metadata": {
  "kernelspec": {
   "display_name": "Python 3",
   "language": "python",
   "name": "python3"
  },
  "language_info": {
   "codemirror_mode": {
    "name": "ipython",
    "version": 3
   },
   "file_extension": ".py",
   "mimetype": "text/x-python",
   "name": "python",
   "nbconvert_exporter": "python",
   "pygments_lexer": "ipython3",
   "version": "3.6.1"
  }
 },
 "nbformat": 4,
 "nbformat_minor": 2
}
