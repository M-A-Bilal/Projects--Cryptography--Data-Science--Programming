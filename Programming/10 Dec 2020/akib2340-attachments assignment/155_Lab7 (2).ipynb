{
 "cells": [
  {
   "cell_type": "markdown",
   "metadata": {},
   "source": [
    "## The Mean Value Theorem and Rolle's Theorem\n",
    "\n",
    "The mean value theorem states that if f(x) is smooth and continuous on an interval [a,b] then there exists at least 1 point c where we get the following \n",
    "\n",
    "$$ f'(c) = \\frac{f(b)-f(a)}{b-a}$$\n",
    "\n",
    "Our goal is to find these values of c that make this work, so lets see an example of this in action."
   ]
  },
  {
   "cell_type": "code",
   "execution_count": null,
   "metadata": {
    "collapsed": true
   },
   "outputs": [],
   "source": [
    "# import block that we always run first\n",
    "import numpy as np\n",
    "import matplotlib.pyplot as plt\n",
    "from sympy import *\n",
    "x ,y, z = symbols('x y z')"
   ]
  },
  {
   "cell_type": "markdown",
   "metadata": {},
   "source": [
    "* Step 1: Find the slope between the two end pints, a and b, using .subs() and the slope formula\n",
    "* Step 2: Fidn the derivative of the function f(x)\n",
    "* Step 3: Use the solve() fuction to find where the points where the derivative matches the slope found in part 1"
   ]
  },
  {
   "cell_type": "markdown",
   "metadata": {},
   "source": [
    "We want to apply the mean value theorem to the funcion $f(x) = x^2 + x - 6$ on the interval [-5, 3]"
   ]
  },
  {
   "cell_type": "code",
   "execution_count": null,
   "metadata": {
    "collapsed": true
   },
   "outputs": [],
   "source": [
    "# Lets start by graphing the function to see what is going on\n",
    "xs = np.linspace(-5, 3, 100)\n",
    "ys = xs ** 2 + xs - 6\n",
    "plt.grid(True)\n",
    "plt.plot(xs,ys, 'b')\n",
    "plt.show()"
   ]
  },
  {
   "cell_type": "code",
   "execution_count": null,
   "metadata": {
    "collapsed": true
   },
   "outputs": [],
   "source": [
    "# Now we take the slope of the line connecting the two endpoints. We do this by using the .subs()\n",
    "# method on the 2 endpoints, and plotting them as follows\n",
    "funct = x ** 2 + x - 6\n",
    "y1 = funct.subs(x, -5)\n",
    "y2 = funct.subs(x, 3)\n",
    "secant = (y2 - y1) / (5 - -5)\n",
    "print('The slope of the secant lint is: \\n' , secant)\n",
    "\n",
    "plt.grid(True)\n",
    "plt.plot(xs, ys, 'b')\n",
    "plt.plot([-5, 3], [y1, y2], 'k--')\n",
    "plt.show()"
   ]
  },
  {
   "cell_type": "code",
   "execution_count": null,
   "metadata": {
    "collapsed": true
   },
   "outputs": [],
   "source": [
    "# Now we want to find where the tangent line is parallel to that secant line\n",
    "# Remember when we use the solve() function, the first variable gets set to 0\n",
    "# So to solve for another value s, we put function - s in for the first argument\n",
    "\n",
    "deriv = diff(funct, x)\n",
    "point = solve(deriv - secant, x)\n",
    "point"
   ]
  },
  {
   "cell_type": "code",
   "execution_count": null,
   "metadata": {
    "collapsed": true
   },
   "outputs": [],
   "source": [
    "# Notice that the point is in the brackets. If we want to get it out of there just type\n",
    "point = point[0]\n",
    "point\n",
    "# Now we can use that in our calculations"
   ]
  },
  {
   "cell_type": "code",
   "execution_count": null,
   "metadata": {
    "collapsed": true
   },
   "outputs": [],
   "source": [
    "# Finally we need our tangent line to graph\n",
    "mtan = secant\n",
    "ytan = funct.subs(x, point)\n",
    "btan = ytan - mtan * point\n",
    "tangent = mtan * x + btan\n",
    "print('The tangent line is: \\n', tangent)"
   ]
  },
  {
   "cell_type": "code",
   "execution_count": null,
   "metadata": {
    "collapsed": true
   },
   "outputs": [],
   "source": [
    "# and our graph\n",
    "\n",
    "tang = mtan * xs + btan\n",
    "\n",
    "plt.grid(True)\n",
    "plt.plot(xs, ys, 'b')\n",
    "plt.plot(xs, tang, 'm')\n",
    "plt.plot([-5, 3], [y1, y2], 'k--')\n",
    "plt.show()"
   ]
  },
  {
   "cell_type": "markdown",
   "metadata": {},
   "source": [
    "### Rolle's Theorem\n",
    "\n",
    "Rolles Theorem is a special case where if you have a continuous smooth function on an interval and at any two points on the interval the value is the same, you are guarenteed a horizontal tangent on that interval."
   ]
  },
  {
   "cell_type": "markdown",
   "metadata": {},
   "source": [
    "### Assignment: Use The Mean Value theorem to find and graph the tangent lines parallel to the secant lines for the following\n",
    "\n",
    "$$f(x) = -x^2 + 4 \\\\ [-2, 1]$$"
   ]
  },
  {
   "cell_type": "code",
   "execution_count": null,
   "metadata": {
    "collapsed": true
   },
   "outputs": [],
   "source": []
  },
  {
   "cell_type": "markdown",
   "metadata": {},
   "source": [
    "$$ g(x) = x + e^{-x} \\\\ [-1, 1] $$"
   ]
  },
  {
   "cell_type": "code",
   "execution_count": null,
   "metadata": {
    "collapsed": true
   },
   "outputs": [],
   "source": []
  }
 ],
 "metadata": {
  "kernelspec": {
   "display_name": "Python 3",
   "language": "python",
   "name": "python3"
  },
  "language_info": {
   "codemirror_mode": {
    "name": "ipython",
    "version": 3
   },
   "file_extension": ".py",
   "mimetype": "text/x-python",
   "name": "python",
   "nbconvert_exporter": "python",
   "pygments_lexer": "ipython3",
   "version": "3.6.1"
  }
 },
 "nbformat": 4,
 "nbformat_minor": 2
}
