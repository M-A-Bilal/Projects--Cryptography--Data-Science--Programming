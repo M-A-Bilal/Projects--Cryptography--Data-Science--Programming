{
 "cells": [
  {
   "cell_type": "markdown",
   "metadata": {},
   "source": [
    "## Derivatives and tangent lines\n",
    "\n",
    "The derivative is defined for a funtion x as follows\n",
    "$$ f'(x) = \\lim_{h\\to0}\\frac{f(x + h)-f(x)}{h}$$\n",
    "\n",
    "In your lecture, you have worked with taking the derivative using rules such as the power rule, product rule, quotient rule and chain rule. One of the wonderful things about python is we don't need to worry about any of those, sympy has a derivative function that will take care of that for us."
   ]
  },
  {
   "cell_type": "code",
   "execution_count": 1,
   "metadata": {
    "collapsed": true
   },
   "outputs": [],
   "source": [
    "# lets import our packages\n",
    "import numpy as np\n",
    "import matplotlib.pyplot as plt\n",
    "from sympy import *\n",
    "%matplotlib inline\n",
    "x, y, z = symbols('x y z')\n",
    "init_printing(use_unicode=True)"
   ]
  },
  {
   "cell_type": "markdown",
   "metadata": {},
   "source": [
    "The fuction that we are going to use is the diff() function.\n",
    "\n",
    "This function has 2 required parameters (Things that go inside the parenthesis)\n",
    "\n",
    "First we need a function $f(x)$\n",
    "Second we need our independant variable x\n",
    "\n",
    "(If we want to take higher order derivatives such as a second derivative we can include a third parameter saying so)"
   ]
  },
  {
   "cell_type": "code",
   "execution_count": null,
   "metadata": {},
   "outputs": [],
   "source": [
    "# Here is an example\n",
    "func = x ** 2 + 3 * x - 4\n",
    "diff(func, x)"
   ]
  },
  {
   "cell_type": "code",
   "execution_count": null,
   "metadata": {},
   "outputs": [],
   "source": [
    "# A second derivative\n",
    "func2 = sin(x)\n",
    "diff(func2, x, 2)"
   ]
  },
  {
   "cell_type": "code",
   "execution_count": 2,
   "metadata": {},
   "outputs": [
    {
     "data": {
      "image/png": "[encoded data removed]",
      "text/latex": [
       "$$\\frac{\\left(4 x^{3} + x^{2} e^{x} - 2 x - 3 e^{x} - 2\\right) e^{x}}{\\left(x - 1\\right)^{2} \\left(x + 1\\right)^{2} \\left(e^{x} + 1\\right)} + \\frac{\\left(x^{4} + x^{2} e^{x} - x^{2} - 2 x e^{x} - 2 x - e^{x}\\right) e^{x}}{\\left(x - 1\\right)^{2} \\left(x + 1\\right)^{2} \\left(e^{x} + 1\\right)} - \\frac{\\left(x^{4} + x^{2} e^{x} - x^{2} - 2 x e^{x} - 2 x - e^{x}\\right) e^{2 x}}{\\left(x - 1\\right)^{2} \\left(x + 1\\right)^{2} \\left(e^{x} + 1\\right)^{2}} - \\frac{2 \\left(x^{4} + x^{2} e^{x} - x^{2} - 2 x e^{x} - 2 x - e^{x}\\right) e^{x}}{\\left(x - 1\\right)^{2} \\left(x + 1\\right)^{3} \\left(e^{x} + 1\\right)} - \\frac{2 \\left(x^{4} + x^{2} e^{x} - x^{2} - 2 x e^{x} - 2 x - e^{x}\\right) e^{x}}{\\left(x - 1\\right)^{3} \\left(x + 1\\right)^{2} \\left(e^{x} + 1\\right)}$$"
      ],
      "text/plain": [
       "⎛   3    2  x            x    ⎞  x   ⎛ 4    2  x    2        x          x⎞  x \n",
       "⎝4⋅x  + x ⋅ℯ  - 2⋅x - 3⋅ℯ  - 2⎠⋅ℯ    ⎝x  + x ⋅ℯ  - x  - 2⋅x⋅ℯ  - 2⋅x - ℯ ⎠⋅ℯ  \n",
       "────────────────────────────────── + ──────────────────────────────────────── \n",
       "           2        2 ⎛ x    ⎞                     2        2 ⎛ x    ⎞        \n",
       "    (x - 1) ⋅(x + 1) ⋅⎝ℯ  + 1⎠              (x - 1) ⋅(x + 1) ⋅⎝ℯ  + 1⎠        \n",
       "                                                                              \n",
       "\n",
       "  ⎛ 4    2  x    2        x          x⎞  2⋅x     ⎛ 4    2  x    2        x    \n",
       "  ⎝x  + x ⋅ℯ  - x  - 2⋅x⋅ℯ  - 2⋅x - ℯ ⎠⋅ℯ      2⋅⎝x  + x ⋅ℯ  - x  - 2⋅x⋅ℯ  - 2\n",
       "- ────────────────────────────────────────── - ───────────────────────────────\n",
       "                                   2                          2        3 ⎛ x  \n",
       "                2        2 ⎛ x    ⎞                    (x - 1) ⋅(x + 1) ⋅⎝ℯ  +\n",
       "         (x - 1) ⋅(x + 1) ⋅⎝ℯ  + 1⎠                                           \n",
       "\n",
       "      x⎞  x     ⎛ 4    2  x    2        x          x⎞  x\n",
       "⋅x - ℯ ⎠⋅ℯ    2⋅⎝x  + x ⋅ℯ  - x  - 2⋅x⋅ℯ  - 2⋅x - ℯ ⎠⋅ℯ \n",
       "─────────── - ──────────────────────────────────────────\n",
       "  ⎞                          3        2 ⎛ x    ⎞        \n",
       " 1⎠                   (x - 1) ⋅(x + 1) ⋅⎝ℯ  + 1⎠        \n",
       "                                                        "
      ]
     },
     "execution_count": 2,
     "metadata": {},
     "output_type": "execute_result"
    }
   ],
   "source": [
    "# And here is a derivative of a very nasty function\n",
    "nasty = (x**4 + x**2*exp(x) - x**2 - 2*x*exp(x) - 2*x - \n",
    "         exp(x))*exp(x)/((x - 1)**2*(x + 1)**2*(exp(x) + 1))\n",
    "diff(nasty, x)"
   ]
  },
  {
   "cell_type": "code",
   "execution_count": 3,
   "metadata": {},
   "outputs": [
    {
     "data": {
      "image/png": "[encoded data removed]",
      "text/latex": [
       "$$\\frac{\\left(x^{4} + x^{2} e^{x} - x^{2} - 2 x e^{x} - 2 x - e^{x}\\right) e^{x}}{\\left(x - 1\\right)^{2} \\left(x + 1\\right)^{2} \\left(e^{x} + 1\\right)}$$"
      ],
      "text/plain": [
       "⎛ 4    2  x    2        x          x⎞  x\n",
       "⎝x  + x ⋅ℯ  - x  - 2⋅x⋅ℯ  - 2⋅x - ℯ ⎠⋅ℯ \n",
       "────────────────────────────────────────\n",
       "              2        2 ⎛ x    ⎞       \n",
       "       (x - 1) ⋅(x + 1) ⋅⎝ℯ  + 1⎠       "
      ]
     },
     "execution_count": 3,
     "metadata": {},
     "output_type": "execute_result"
    }
   ],
   "source": [
    "# For reference here is that nasty function\n",
    "nasty"
   ]
  },
  {
   "cell_type": "markdown",
   "metadata": {},
   "source": [
    "Try taking the derivative of $$f(x) = \\frac{sin(2x) + cos(x^2)}{x^3}$$"
   ]
  },
  {
   "cell_type": "code",
   "execution_count": null,
   "metadata": {
    "collapsed": true
   },
   "outputs": [],
   "source": []
  },
  {
   "cell_type": "markdown",
   "metadata": {},
   "source": [
    "A lot of times, we will need to use a derivative at a later point, so we need to store the value like below"
   ]
  },
  {
   "cell_type": "code",
   "execution_count": null,
   "metadata": {},
   "outputs": [],
   "source": [
    "func3 = x ** 2 - 5 * x + 4\n",
    "deriv = diff(func3, x) # Store the value\n",
    "deriv # lets see what the value is"
   ]
  },
  {
   "cell_type": "markdown",
   "metadata": {},
   "source": [
    "Now we want to evaluate what the value of the derivative is at a point. We will use a function called .subs() to evaluate the values.\n",
    "\n",
    "The syntax is .subs(x,n) where n us the value we want to use"
   ]
  },
  {
   "cell_type": "code",
   "execution_count": null,
   "metadata": {},
   "outputs": [],
   "source": [
    "deriv.subs(x,2)"
   ]
  },
  {
   "cell_type": "markdown",
   "metadata": {},
   "source": [
    "### Assignment\n",
    "\n",
    "For each of the following functions, graph the function and the line tangent to the function at the given point\n",
    "\n",
    "$$ f(x) = x^2 + 4x + 3$$$$  x=2$$"
   ]
  },
  {
   "cell_type": "code",
   "execution_count": null,
   "metadata": {
    "collapsed": true
   },
   "outputs": [],
   "source": []
  },
  {
   "cell_type": "markdown",
   "metadata": {},
   "source": [
    "$$ f(x) = x^x$$ $$x = 1$$"
   ]
  },
  {
   "cell_type": "code",
   "execution_count": null,
   "metadata": {},
   "outputs": [],
   "source": []
  },
  {
   "cell_type": "markdown",
   "metadata": {},
   "source": [
    "$$ f(x) = 2xe^{-x}cos(x)$$$$x=-1$$"
   ]
  },
  {
   "cell_type": "code",
   "execution_count": null,
   "metadata": {
    "collapsed": true
   },
   "outputs": [],
   "source": []
  },
  {
   "cell_type": "markdown",
   "metadata": {},
   "source": [
    "$$ f(x) = -x^2 + 6$$$$x=0$$"
   ]
  },
  {
   "cell_type": "code",
   "execution_count": null,
   "metadata": {
    "collapsed": true
   },
   "outputs": [],
   "source": []
  }
 ],
 "metadata": {
  "kernelspec": {
   "display_name": "Python 3",
   "language": "python",
   "name": "python3"
  },
  "language_info": {
   "codemirror_mode": {
    "name": "ipython",
    "version": 3
   },
   "file_extension": ".py",
   "mimetype": "text/x-python",
   "name": "python",
   "nbconvert_exporter": "python",
   "pygments_lexer": "ipython3",
   "version": "3.6.1"
  }
 },
 "nbformat": 4,
 "nbformat_minor": 2
}
