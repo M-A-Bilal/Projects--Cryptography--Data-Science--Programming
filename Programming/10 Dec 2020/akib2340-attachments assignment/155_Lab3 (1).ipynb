{
 "cells": [
  {
   "cell_type": "markdown",
   "metadata": {},
   "source": [
    "## Lab 3: Limits and continuity\n",
    "\n",
    "Today we are going to explore how to take a limit using all 3 methods. \n",
    "\n",
    "First we used matplotlib.pyplot to graph the function around the region we wanted to observe.\n",
    "Second we used the limit function from sympy to calculate the limit.\n",
    "The third way is to use a table to see what happens as we get closer and closer to the value that x approaches"
   ]
  },
  {
   "cell_type": "code",
   "execution_count": null,
   "metadata": {
    "collapsed": true
   },
   "outputs": [],
   "source": [
    "#Our usual inport block we need to run first.\n",
    "import numpy as np\n",
    "import matplotlib.pyplot as plt\n",
    "from sympy import *\n",
    "x = symbols('x')\n",
    "init_printing(use_unicode=True)\n",
    "%matplotlib inline"
   ]
  },
  {
   "cell_type": "markdown",
   "metadata": {},
   "source": [
    "To evaluate a limit numerically, that is with a table we need to put x values into our function that get closer and closer to the x value of the limit.\n",
    "\n",
    "We will do this using a loop. A loop is a section of code that we run repeatedly as long as a certain condition is true. \n",
    "\n",
    "For the loop below, I want to get the y values 20 times, note the syntax and what the code does when you run it."
   ]
  },
  {
   "cell_type": "code",
   "execution_count": null,
   "metadata": {},
   "outputs": [],
   "source": [
    "count = 1\n",
    "while count < 21:\n",
    "    print('The count is: ', count)\n",
    "    count += 1"
   ]
  },
  {
   "cell_type": "markdown",
   "metadata": {},
   "source": [
    "When using loops notice I have to be careful. If I don't set it up so the condition to use the loop is eventually broken, I will get stuck in the loop forever. Thsi is called an infinite loop.\n",
    "\n",
    "Also notice that to include 20 in my count, I had to say the count is less than 21. This is because count changes inside the loop. See what happens if you switch the order of the 2 statements in the loop."
   ]
  },
  {
   "cell_type": "markdown",
   "metadata": {},
   "source": [
    "Assignment:\n",
    "\n",
    "Write a loop that will print out the first 10 square numbers"
   ]
  },
  {
   "cell_type": "code",
   "execution_count": null,
   "metadata": {
    "collapsed": true
   },
   "outputs": [],
   "source": [
    "# code to print the first 10 square numbers goes here"
   ]
  },
  {
   "cell_type": "markdown",
   "metadata": {},
   "source": [
    "Now we are going to use a loop to numerically calculate our limit\n",
    "\n",
    "for this example, we want to calculate $$\\lim_{x\\to4} 3x + 5$$"
   ]
  },
  {
   "cell_type": "code",
   "execution_count": null,
   "metadata": {},
   "outputs": [],
   "source": [
    "delta = 1\n",
    "point = 4 - delta\n",
    "counter = 0\n",
    "while counter < 11:\n",
    "    value = 3 * point + 5\n",
    "    print('When x is' , point, 'f(x) is' , value)\n",
    "    delta = delta / 10\n",
    "    point = 4 - delta\n",
    "    counter += 1"
   ]
  },
  {
   "cell_type": "markdown",
   "metadata": {},
   "source": [
    "Notice that this is a left sided limit. In the space below make a couple minor changes to calculate the right sided limit. Also verify that the limit is actually 17."
   ]
  },
  {
   "cell_type": "code",
   "execution_count": null,
   "metadata": {
    "collapsed": true
   },
   "outputs": [],
   "source": []
  },
  {
   "cell_type": "markdown",
   "metadata": {},
   "source": [
    "### Assignment: Analyze the following limits numerically. Verify the limits either with a graph or the limit function from sympy\n",
    "\n",
    "$$lim_{x\\to2} 2x + 4$$\n"
   ]
  },
  {
   "cell_type": "code",
   "execution_count": null,
   "metadata": {
    "collapsed": true
   },
   "outputs": [],
   "source": []
  },
  {
   "cell_type": "markdown",
   "metadata": {},
   "source": [
    "$$lim_{x\\to-2} \\frac{x^2 + 3x +2}{x+2}$$"
   ]
  },
  {
   "cell_type": "code",
   "execution_count": null,
   "metadata": {
    "collapsed": true
   },
   "outputs": [],
   "source": []
  },
  {
   "cell_type": "markdown",
   "metadata": {},
   "source": [
    "$$lim_{x\\to\\pi}  cos(x)$$"
   ]
  },
  {
   "cell_type": "code",
   "execution_count": null,
   "metadata": {
    "collapsed": true
   },
   "outputs": [],
   "source": []
  },
  {
   "cell_type": "markdown",
   "metadata": {},
   "source": [
    "The definition of continuity is that f(x) is continuous at a point c if $$lim_{x\\to c} f(x) = f(c)$$\n",
    "\n",
    "### Assignment: For all limits in this lab, state weather they are continous at the given points where the limit is taken"
   ]
  },
  {
   "cell_type": "code",
   "execution_count": null,
   "metadata": {
    "collapsed": true
   },
   "outputs": [],
   "source": []
  }
 ],
 "metadata": {
  "kernelspec": {
   "display_name": "Python 3",
   "language": "python",
   "name": "python3"
  },
  "language_info": {
   "codemirror_mode": {
    "name": "ipython",
    "version": 3
   },
   "file_extension": ".py",
   "mimetype": "text/x-python",
   "name": "python",
   "nbconvert_exporter": "python",
   "pygments_lexer": "ipython3",
   "version": "3.6.1"
  }
 },
 "nbformat": 4,
 "nbformat_minor": 2
}
