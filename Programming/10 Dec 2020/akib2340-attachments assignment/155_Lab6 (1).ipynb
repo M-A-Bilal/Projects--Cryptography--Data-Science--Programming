{
 "cells": [
  {
   "cell_type": "markdown",
   "metadata": {},
   "source": [
    "## More graphing with 2 different plot functions\n",
    "\n",
    "As we foudn last week in lab 5, the sympy package also comes with it's own version for plotting functions, however using it is a bit different than using matplotlib.pyplot\n",
    "\n",
    "Knowing when to use each one is done case by case, and it is up to personal preference. We are already familiar with matplotlib.pyplot, so lets see what some differences are"
   ]
  },
  {
   "cell_type": "code",
   "execution_count": 1,
   "metadata": {
    "collapsed": true
   },
   "outputs": [],
   "source": [
    "#import our packages\n",
    "import numpy as np\n",
    "import matplotlib.pyplot as plt\n",
    "from sympy import *\n",
    "x, y, z = symbols('x y z')\n",
    "init_printing(use_unicode=True)\n",
    "%matplotlib inline"
   ]
  },
  {
   "cell_type": "markdown",
   "metadata": {},
   "source": [
    "first lets go over graphing the following function and its tangent line using each graphing package. We are going to be using the following fucntion and point\n",
    "\n",
    "$$ f(x) = x^2 + 4x + 3$$$$  x=2$$"
   ]
  },
  {
   "cell_type": "code",
   "execution_count": null,
   "metadata": {
    "collapsed": true
   },
   "outputs": [],
   "source": [
    "# Lets get our values we need\n",
    "func1 = x ** 2 + 4 * x + 3\n",
    "x1 = 2\n",
    "y1 = func1.subs(x, x1)\n",
    "deriv1 = diff(func1, x)\n",
    "m1 = deriv1.subs(x, x1)\n",
    "b1 = y1 - (m1 * x1)\n",
    "tan1 = m1 * x + b1\n",
    "print('The derivative is: \\n'\n",
    "      , deriv1, '\\n The slope of the tangent line is', m1, '\\n The y intercept is', y1)\n"
   ]
  },
  {
   "cell_type": "code",
   "execution_count": null,
   "metadata": {
    "collapsed": true
   },
   "outputs": [],
   "source": [
    "# Graphing using matplotlib\n",
    "\n",
    "xs1 = np.linspace(-1, 5, 100) # We control the x value of the graph here, when we make the graph\n",
    "ys1 = xs1 ** 2 + 4 * xs1 + 3\n",
    "tang1 = m1 * xs1 + b1\n",
    "plt.grid(True)\n",
    "plt.plot(xs1, ys1)\n",
    "plt.plot(xs1, tang1)\n",
    "plt.show()"
   ]
  },
  {
   "cell_type": "code",
   "execution_count": null,
   "metadata": {
    "collapsed": true
   },
   "outputs": [],
   "source": [
    "# We can also control the y values with this bit of code before our plt.show()\n",
    "# This must be in the same block to run properly\n",
    "ymin = -20\n",
    "ymax = 30\n",
    "axes = plt.gca()\n",
    "axes.set_ylim([ymin, ymax])\n",
    "\n",
    "plt.grid(True)\n",
    "plt.plot(xs1, ys1)\n",
    "plt.plot(xs1, tang1)\n",
    "plt.show()"
   ]
  },
  {
   "cell_type": "markdown",
   "metadata": {},
   "source": [
    "Now how do we do the same thing using sympys plot, the nice thing is we already have most of the equations in the code, to get the plot, just type as follows"
   ]
  },
  {
   "cell_type": "code",
   "execution_count": null,
   "metadata": {
    "collapsed": true
   },
   "outputs": [],
   "source": [
    "plot(func1, tan1)"
   ]
  },
  {
   "cell_type": "code",
   "execution_count": null,
   "metadata": {
    "collapsed": true
   },
   "outputs": [],
   "source": [
    "# We have a default range goinf from -10 to 10, which makes it difficult to see our tangent line. \n",
    "plot(func1, tan1, (x,0,5))"
   ]
  },
  {
   "cell_type": "markdown",
   "metadata": {},
   "source": [
    "What I had to do is after stating all of the functions, I specify the x values using parenthesis with 3 values in it, the first is x our independant variable, the second and third are the start and end for the range\n"
   ]
  },
  {
   "cell_type": "markdown",
   "metadata": {},
   "source": [
    "These are optional arguments that you can use to customize the plot\n",
    "\n",
    "show: Boolean. The default value is set to True. Set show to False and the function will not display the plot. The returned instance of the Plot class can then be used to save or display the plot by calling the save() and show() methods respectively.\n",
    "\n",
    "\n",
    "Aesthetics options:\n",
    "\n",
    "line_color: float. Specifies the color for the plot. See Plot to see how to set color for the plots.\n",
    "\n",
    "If there are multiple plots, then the same series series are applied to all the plots. If you want to set these options separately, you can index the Plot object returned and set it.\n",
    "\n",
    "Arguments for Plot class:\n",
    "\n",
    "title : str. Title of the plot. It is set to the latex representation of the expression, if the plot has only one expression.\n",
    "\n",
    "xlabel : str. Label for the x-axis.\n",
    "\n",
    "ylabel : str. Label for the y-axis.\n",
    "\n",
    "xscale: {‘linear’, ‘log’} Sets the scaling of the x-axis.\n",
    "\n",
    "yscale: {‘linear’, ‘log’} Sets the scaling if the y-axis.\n",
    "\n",
    "axis_center: tuple of two floats denoting the coordinates of the center or {‘center’, ‘auto’}\n",
    "\n",
    "xlim : tuple of two floats, denoting the x-axis limits.\n",
    "\n",
    "ylim : tuple of two floats, denoting the y-axis limits.\n",
    "\n",
    "If you want you can play with these values and see what happens"
   ]
  },
  {
   "cell_type": "markdown",
   "metadata": {},
   "source": [
    "Solving equations using Sympy\n",
    "\n",
    "Sympy has a solve function that takes 2 arguments\n",
    "\n",
    "the first is an equation to solve, and the second is the variable, we will use x here. a sample is below.\n",
    "\n",
    "Note that solve needs the function to be solved is assumed equal to 0, which is useful for what we are using right now. In the future we will work when solving for other variables"
   ]
  },
  {
   "cell_type": "code",
   "execution_count": 4,
   "metadata": {},
   "outputs": [
    {
     "ename": "SyntaxError",
     "evalue": "invalid syntax (<ipython-input-4-1aec6d7307a9>, line 1)",
     "output_type": "error",
     "traceback": [
      "\u001b[0;36m  File \u001b[0;32m\"<ipython-input-4-1aec6d7307a9>\"\u001b[0;36m, line \u001b[0;32m1\u001b[0m\n\u001b[0;31m    solve(x**2 - 1, x))\u001b[0m\n\u001b[0m                      ^\u001b[0m\n\u001b[0;31mSyntaxError\u001b[0m\u001b[0;31m:\u001b[0m invalid syntax\n"
     ]
    }
   ],
   "source": [
    "solve(x**2 - 1, x)\n"
   ]
  },
  {
   "cell_type": "markdown",
   "metadata": {},
   "source": [
    "## assignment\n",
    "\n",
    "Plot the following functions and also plot where they have horizontal tangents.\n",
    "\n",
    "$$ f(x) = 2xe^{-x}sin(x)$$"
   ]
  },
  {
   "cell_type": "code",
   "execution_count": null,
   "metadata": {
    "collapsed": true
   },
   "outputs": [],
   "source": []
  },
  {
   "cell_type": "markdown",
   "metadata": {},
   "source": [
    "$$ f(x) = ln(tan(3x))$$"
   ]
  },
  {
   "cell_type": "code",
   "execution_count": null,
   "metadata": {
    "collapsed": true
   },
   "outputs": [],
   "source": []
  },
  {
   "cell_type": "markdown",
   "metadata": {},
   "source": [
    "$$ f(x) = -x^2 + 6$$"
   ]
  },
  {
   "cell_type": "code",
   "execution_count": null,
   "metadata": {
    "collapsed": true
   },
   "outputs": [],
   "source": []
  }
 ],
 "metadata": {
  "kernelspec": {
   "display_name": "Python 3",
   "language": "python",
   "name": "python3"
  },
  "language_info": {
   "codemirror_mode": {
    "name": "ipython",
    "version": 3
   },
   "file_extension": ".py",
   "mimetype": "text/x-python",
   "name": "python",
   "nbconvert_exporter": "python",
   "pygments_lexer": "ipython3",
   "version": "3.6.1"
  }
 },
 "nbformat": 4,
 "nbformat_minor": 2
}
