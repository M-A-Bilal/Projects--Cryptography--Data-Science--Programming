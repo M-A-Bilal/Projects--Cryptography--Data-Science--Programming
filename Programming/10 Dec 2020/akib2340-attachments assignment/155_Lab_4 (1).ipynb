{
 "cells": [
  {
   "cell_type": "markdown",
   "metadata": {},
   "source": [
    "## Lab 4: Continuty and piecewise functions.\n",
    "\n",
    "A funtion continuous at a point c if the following is true\n",
    "$$ \\lim_{x\\to c}f(x) = f(c)$$\n",
    "This means that the function has a limit at the point c, and the value at c is the same as that limit.\n",
    "\n",
    "### Continuous Functions\n",
    "A function is continuous if it is continuous at each point in it's domain.\n",
    "\n",
    "Today we are going to work with these ideas and practice working with piecewise functions."
   ]
  },
  {
   "cell_type": "code",
   "execution_count": 1,
   "metadata": {
    "collapsed": true
   },
   "outputs": [],
   "source": [
    "# We begin as always with our imports\n",
    "# Remember we must run this block before any other blocks for the code to work\n",
    "import numpy as np\n",
    "import matplotlib.pyplot as plt\n",
    "from sympy import *\n",
    "%matplotlib inline\n",
    "x, y, z = symbols('x y z')\n",
    "init_printing(use_unicode=True)"
   ]
  },
  {
   "cell_type": "markdown",
   "metadata": {},
   "source": [
    "Take for example the following function\n",
    "$$f(x) = \\frac{x^2 -1}{x-1}$$\n",
    "The point x=1 is undefined because we would be diving by 0 there, but the limit does exist. lets find the limit and graph the function"
   ]
  },
  {
   "cell_type": "code",
   "execution_count": null,
   "metadata": {},
   "outputs": [],
   "source": [
    "point = limit((x**2 -1)/(x-1),x,1)\n",
    "point # I am going to use this value later"
   ]
  },
  {
   "cell_type": "code",
   "execution_count": null,
   "metadata": {},
   "outputs": [],
   "source": [
    "xs = np.linspace(-1, 2, 100)\n",
    "ys = (xs**2 - 1)/(xs -1)\n",
    "plt.grid(True)\n",
    "plt.plot(xs, ys)"
   ]
  },
  {
   "cell_type": "markdown",
   "metadata": {},
   "source": [
    "We want to make our graph a little nicer now. At points of discontnuity, we will have either a hole, break, or asymptote. To show a break, python will do the work for us, however showing a hole or asymptote is a little more work. Take for example, $$f(x) = \\frac{1}{x+1}$$\n",
    "This function will have an asymptote at x=-1 look at the code below and see where the new line is that plots the asymptote."
   ]
  },
  {
   "cell_type": "code",
   "execution_count": null,
   "metadata": {},
   "outputs": [],
   "source": [
    "xs2 = np.linspace(-2, 1, 100)\n",
    "ys2 = 1 / (xs2 + 1)\n",
    "plt.plot(xs2, ys2)\n",
    "plt.grid(True)\n",
    "plt.plot([-1,-1], [-25, 50], \"k--\", linewidth=2)\n",
    "plt.show()"
   ]
  },
  {
   "cell_type": "markdown",
   "metadata": {},
   "source": [
    "Notice that the asymptote does not reach the end of the graph, we are going to add another constraint to our graphs, y limits. These are very useful for controlling the graph, especially when we have possible asymptotes."
   ]
  },
  {
   "cell_type": "code",
   "execution_count": null,
   "metadata": {
    "collapsed": true
   },
   "outputs": [],
   "source": [
    "ymin = -40\n",
    "ymax = 40\n",
    "axes = plt.gca()\n",
    "axes.set_ylim([ymin, ymax])\n",
    "\n",
    "xs2 = np.linspace(-2, 1, 100)\n",
    "ys2 = 1 / (xs2 + 1)\n",
    "plt.plot(xs2, ys2)\n",
    "plt.grid(True)\n",
    "plt.plot([-1,-1], [ymin, ymax], \"k--\", linewidth=2)\n",
    "plt.show()"
   ]
  },
  {
   "cell_type": "markdown",
   "metadata": {},
   "source": [
    "As for the open circle, we are going to use another plot function called scatter. We only need to plot the points where the hole is\n",
    "\n",
    "These types of discontinuities are also known as removable discontinuities."
   ]
  },
  {
   "cell_type": "code",
   "execution_count": null,
   "metadata": {
    "collapsed": true
   },
   "outputs": [],
   "source": [
    "xs = np.linspace(-1, 2, 100)\n",
    "ys = (xs**2 - 1)/(xs -1)\n",
    "plt.grid(True)\n",
    "plt.plot(xs, ys, 'b')\n",
    "plt.scatter(1, point, s=80, facecolors='none', edgecolors='b')\n",
    "plt.show"
   ]
  },
  {
   "cell_type": "code",
   "execution_count": null,
   "metadata": {
    "collapsed": true
   },
   "outputs": [],
   "source": [
    "\"\"\"\n",
    "To break down the plt.scatter use we have here, remember this\n",
    "plt.scatter(x, y, s=80, facecolors='none', edgecolors='b)\n",
    "The only points you change are x and y, the other 3 pieces control the size and color of the open circle\n",
    "\"\"\""
   ]
  },
  {
   "cell_type": "markdown",
   "metadata": {},
   "source": [
    "## Assignement: Graph the following and show where the function is not continuous. Also state what type of discontinuity it is\n",
    "\n",
    "$$f(x) = \\frac{x^2 - 3x - 4}{x+1}$$"
   ]
  },
  {
   "cell_type": "code",
   "execution_count": null,
   "metadata": {
    "collapsed": true
   },
   "outputs": [],
   "source": []
  },
  {
   "cell_type": "markdown",
   "metadata": {},
   "source": []
  },
  {
   "cell_type": "markdown",
   "metadata": {},
   "source": [
    "$$f(x) = \\frac{x+1}{x-1}$$"
   ]
  },
  {
   "cell_type": "code",
   "execution_count": null,
   "metadata": {
    "collapsed": true
   },
   "outputs": [],
   "source": []
  },
  {
   "cell_type": "markdown",
   "metadata": {},
   "source": []
  },
  {
   "cell_type": "markdown",
   "metadata": {},
   "source": [
    "$$f(x) =\n",
    "  \\begin{cases}\n",
    "                                   \\frac{x^2}{2}+1 & \\text{if $x\\leq2$} \\\\\n",
    "                                   -x +4 & \\text{if $x>2$}\n",
    "  \\end{cases}$$"
   ]
  },
  {
   "cell_type": "code",
   "execution_count": null,
   "metadata": {
    "collapsed": true
   },
   "outputs": [],
   "source": []
  },
  {
   "cell_type": "markdown",
   "metadata": {},
   "source": []
  },
  {
   "cell_type": "markdown",
   "metadata": {},
   "source": [
    "$$f(x) =\n",
    "  \\begin{cases}\n",
    "                                   x^2-3 & \\text{if $x<1$} \\\\\n",
    "                                   2x -1 & \\text{if $x\\geq1$}\n",
    "  \\end{cases}$$"
   ]
  },
  {
   "cell_type": "code",
   "execution_count": null,
   "metadata": {
    "collapsed": true
   },
   "outputs": [],
   "source": []
  },
  {
   "cell_type": "markdown",
   "metadata": {},
   "source": []
  },
  {
   "cell_type": "markdown",
   "metadata": {},
   "source": [
    "##### Bonus, modify the graphs for the piecewise functions that are not continuous to have open circles at the correct points where needed"
   ]
  },
  {
   "cell_type": "code",
   "execution_count": 2,
   "metadata": {},
   "outputs": [
    {
     "data": {
      "image/png": "[encoded data removed]",
      "text/latex": [
       "$$\\sin{\\left (3 \\right )}$$"
      ],
      "text/plain": [
       "sin(3)"
      ]
     },
     "execution_count": 2,
     "metadata": {},
     "output_type": "execute_result"
    }
   ],
   "source": [
    "sin(3)"
   ]
  },
  {
   "cell_type": "code",
   "execution_count": 3,
   "metadata": {},
   "outputs": [
    {
     "data": {
      "image/png": "[encoded data removed]",
      "text/latex": [
       "$$0.14112000806$$"
      ],
      "text/plain": [
       "0.14112000806"
      ]
     },
     "execution_count": 3,
     "metadata": {},
     "output_type": "execute_result"
    }
   ],
   "source": [
    "np.sin(3)"
   ]
  },
  {
   "cell_type": "code",
   "execution_count": null,
   "metadata": {
    "collapsed": true
   },
   "outputs": [],
   "source": []
  }
 ],
 "metadata": {
  "kernelspec": {
   "display_name": "Python 3",
   "language": "python",
   "name": "python3"
  },
  "language_info": {
   "codemirror_mode": {
    "name": "ipython",
    "version": 3
   },
   "file_extension": ".py",
   "mimetype": "text/x-python",
   "name": "python",
   "nbconvert_exporter": "python",
   "pygments_lexer": "ipython3",
   "version": "3.6.1"
  }
 },
 "nbformat": 4,
 "nbformat_minor": 2
}
