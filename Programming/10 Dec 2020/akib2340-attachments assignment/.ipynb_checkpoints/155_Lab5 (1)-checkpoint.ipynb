{
 "cells": [
  {
   "cell_type": "markdown",
   "metadata": {},
   "source": [
    "## Derivatives and tangent lines\n",
    "\n",
    "The derivative is defined for a funtion x as follows\n",
    "$$ f'(x) = \\lim_{h\\to0}\\frac{f(x + h)-f(x)}{h}$$\n",
    "\n",
    "In your lecture, you have worked with taking the derivative using rules such as the power rule, product rule, quotient rule and chain rule. One of the wonderful things about python is we don't need to worry about any of those, sympy has a derivative function that will take care of that for us."
   ]
  },
  {
   "cell_type": "code",
   "execution_count": 30,
   "metadata": {},
   "outputs": [],
   "source": [
    "# lets import our packages\n",
    "import numpy as np\n",
    "import matplotlib.pyplot as plt\n",
    "from sympy import *\n",
    "%matplotlib inline\n",
    "x, y, z, x2 = symbols('x y z x2')\n",
    "init_printing(use_unicode=True)"
   ]
  },
  {
   "cell_type": "markdown",
   "metadata": {},
   "source": [
    "The fuction that we are going to use is the diff() function.\n",
    "\n",
    "This function has 2 required parameters (Things that go inside the parenthesis)\n",
    "\n",
    "First we need a function $f(x)$\n",
    "Second we need our independant variable x\n",
    "\n",
    "(If we want to take higher order derivatives such as a second derivative we can include a third parameter saying so)"
   ]
  },
  {
   "cell_type": "code",
   "execution_count": 2,
   "metadata": {},
   "outputs": [
    {
     "data": {
      "image/png": "[encoded data removed]",
      "text/latex": [
       "$\\displaystyle 2 x + 3$"
      ],
      "text/plain": [
       "2⋅x + 3"
      ]
     },
     "execution_count": 2,
     "metadata": {},
     "output_type": "execute_result"
    }
   ],
   "source": [
    "# Here is an example\n",
    "func = x ** 2 + 3 * x - 4\n",
    "diff(func, x)"
   ]
  },
  {
   "cell_type": "code",
   "execution_count": 3,
   "metadata": {},
   "outputs": [
    {
     "data": {
      "image/png": "[encoded data removed]",
      "text/latex": [
       "$\\displaystyle - \\sin{\\left(x \\right)}$"
      ],
      "text/plain": [
       "-sin(x)"
      ]
     },
     "execution_count": 3,
     "metadata": {},
     "output_type": "execute_result"
    }
   ],
   "source": [
    "# A second derivative\n",
    "func2 = sin(x)\n",
    "diff(func2, x, 2)"
   ]
  },
  {
   "cell_type": "code",
   "execution_count": 4,
   "metadata": {},
   "outputs": [
    {
     "data": {
      "image/png": "[encoded data removed]",
      "text/latex": [
       "$\\displaystyle \\frac{\\left(4 x^{3} + x^{2} e^{x} - 2 x - 3 e^{x} - 2\\right) e^{x}}{\\left(x - 1\\right)^{2} \\left(x + 1\\right)^{2} \\left(e^{x} + 1\\right)} + \\frac{\\left(x^{4} + x^{2} e^{x} - x^{2} - 2 x e^{x} - 2 x - e^{x}\\right) e^{x}}{\\left(x - 1\\right)^{2} \\left(x + 1\\right)^{2} \\left(e^{x} + 1\\right)} - \\frac{\\left(x^{4} + x^{2} e^{x} - x^{2} - 2 x e^{x} - 2 x - e^{x}\\right) e^{2 x}}{\\left(x - 1\\right)^{2} \\left(x + 1\\right)^{2} \\left(e^{x} + 1\\right)^{2}} - \\frac{2 \\left(x^{4} + x^{2} e^{x} - x^{2} - 2 x e^{x} - 2 x - e^{x}\\right) e^{x}}{\\left(x - 1\\right)^{2} \\left(x + 1\\right)^{3} \\left(e^{x} + 1\\right)} - \\frac{2 \\left(x^{4} + x^{2} e^{x} - x^{2} - 2 x e^{x} - 2 x - e^{x}\\right) e^{x}}{\\left(x - 1\\right)^{3} \\left(x + 1\\right)^{2} \\left(e^{x} + 1\\right)}$"
      ],
      "text/plain": [
       "⎛   3    2  x            x    ⎞  x   ⎛ 4    2  x    2        x          x⎞  x \n",
       "⎝4⋅x  + x ⋅ℯ  - 2⋅x - 3⋅ℯ  - 2⎠⋅ℯ    ⎝x  + x ⋅ℯ  - x  - 2⋅x⋅ℯ  - 2⋅x - ℯ ⎠⋅ℯ  \n",
       "────────────────────────────────── + ──────────────────────────────────────── \n",
       "           2        2 ⎛ x    ⎞                     2        2 ⎛ x    ⎞        \n",
       "    (x - 1) ⋅(x + 1) ⋅⎝ℯ  + 1⎠              (x - 1) ⋅(x + 1) ⋅⎝ℯ  + 1⎠        \n",
       "                                                                              \n",
       "\n",
       "  ⎛ 4    2  x    2        x          x⎞  2⋅x     ⎛ 4    2  x    2        x    \n",
       "  ⎝x  + x ⋅ℯ  - x  - 2⋅x⋅ℯ  - 2⋅x - ℯ ⎠⋅ℯ      2⋅⎝x  + x ⋅ℯ  - x  - 2⋅x⋅ℯ  - 2\n",
       "- ────────────────────────────────────────── - ───────────────────────────────\n",
       "                                   2                          2        3 ⎛ x  \n",
       "                2        2 ⎛ x    ⎞                    (x - 1) ⋅(x + 1) ⋅⎝ℯ  +\n",
       "         (x - 1) ⋅(x + 1) ⋅⎝ℯ  + 1⎠                                           \n",
       "\n",
       "      x⎞  x     ⎛ 4    2  x    2        x          x⎞  x\n",
       "⋅x - ℯ ⎠⋅ℯ    2⋅⎝x  + x ⋅ℯ  - x  - 2⋅x⋅ℯ  - 2⋅x - ℯ ⎠⋅ℯ \n",
       "─────────── - ──────────────────────────────────────────\n",
       "  ⎞                          3        2 ⎛ x    ⎞        \n",
       " 1⎠                   (x - 1) ⋅(x + 1) ⋅⎝ℯ  + 1⎠        \n",
       "                                                        "
      ]
     },
     "execution_count": 4,
     "metadata": {},
     "output_type": "execute_result"
    }
   ],
   "source": [
    "# And here is a derivative of a very nasty function\n",
    "nasty = (x**4 + x**2*exp(x) - x**2 - 2*x*exp(x) - 2*x - \n",
    "         exp(x))*exp(x)/((x - 1)**2*(x + 1)**2*(exp(x) + 1))\n",
    "diff(nasty, x)"
   ]
  },
  {
   "cell_type": "code",
   "execution_count": 5,
   "metadata": {},
   "outputs": [
    {
     "data": {
      "image/png": "[encoded data removed]",
      "text/latex": [
       "$\\displaystyle \\frac{\\left(x^{4} + x^{2} e^{x} - x^{2} - 2 x e^{x} - 2 x - e^{x}\\right) e^{x}}{\\left(x - 1\\right)^{2} \\left(x + 1\\right)^{2} \\left(e^{x} + 1\\right)}$"
      ],
      "text/plain": [
       "⎛ 4    2  x    2        x          x⎞  x\n",
       "⎝x  + x ⋅ℯ  - x  - 2⋅x⋅ℯ  - 2⋅x - ℯ ⎠⋅ℯ \n",
       "────────────────────────────────────────\n",
       "              2        2 ⎛ x    ⎞       \n",
       "       (x - 1) ⋅(x + 1) ⋅⎝ℯ  + 1⎠       "
      ]
     },
     "execution_count": 5,
     "metadata": {},
     "output_type": "execute_result"
    }
   ],
   "source": [
    "# For reference here is that nasty function\n",
    "nasty"
   ]
  },
  {
   "cell_type": "markdown",
   "metadata": {},
   "source": [
    "Try taking the derivative of $$f(x) = \\frac{sin(2x) + cos(x^2)}{x^3}$$"
   ]
  },
  {
   "cell_type": "code",
   "execution_count": 8,
   "metadata": {},
   "outputs": [
    {
     "data": {
      "image/png": "[encoded data removed]",
      "text/latex": [
       "$\\displaystyle \\frac{\\sin{\\left(2 x \\right)} + \\cos{\\left(x^{2} \\right)}}{x^{3}}$"
      ],
      "text/plain": [
       "              ⎛ 2⎞\n",
       "sin(2⋅x) + cos⎝x ⎠\n",
       "──────────────────\n",
       "         3        \n",
       "        x         "
      ]
     },
     "execution_count": 8,
     "metadata": {},
     "output_type": "execute_result"
    }
   ],
   "source": [
    "nasty = (sin(2*x) + cos(x**2))/x**3\n",
    "nasty"
   ]
  },
  {
   "cell_type": "code",
   "execution_count": 9,
   "metadata": {},
   "outputs": [
    {
     "data": {
      "image/png": "[encoded data removed]",
      "text/latex": [
       "$\\displaystyle \\frac{- 2 x \\sin{\\left(x^{2} \\right)} + 2 \\cos{\\left(2 x \\right)}}{x^{3}} - \\frac{3 \\left(\\sin{\\left(2 x \\right)} + \\cos{\\left(x^{2} \\right)}\\right)}{x^{4}}$"
      ],
      "text/plain": [
       "         ⎛ 2⎞                  ⎛              ⎛ 2⎞⎞\n",
       "- 2⋅x⋅sin⎝x ⎠ + 2⋅cos(2⋅x)   3⋅⎝sin(2⋅x) + cos⎝x ⎠⎠\n",
       "────────────────────────── - ──────────────────────\n",
       "             3                          4          \n",
       "            x                          x           "
      ]
     },
     "execution_count": 9,
     "metadata": {},
     "output_type": "execute_result"
    }
   ],
   "source": [
    "diff(nasty, x)"
   ]
  },
  {
   "cell_type": "markdown",
   "metadata": {},
   "source": [
    "A lot of times, we will need to use a derivative at a later point, so we need to store the value like below"
   ]
  },
  {
   "cell_type": "code",
   "execution_count": 20,
   "metadata": {},
   "outputs": [
    {
     "data": {
      "image/png": "[encoded data removed]",
      "text/latex": [
       "$\\displaystyle 2 x - 5$"
      ],
      "text/plain": [
       "2⋅x - 5"
      ]
     },
     "execution_count": 20,
     "metadata": {},
     "output_type": "execute_result"
    }
   ],
   "source": [
    "func3 = x ** 2 - 5 * x + 4\n",
    "deriv = diff(func3, x) # Store the value\n",
    "deriv # lets see what the value is"
   ]
  },
  {
   "cell_type": "markdown",
   "metadata": {},
   "source": [
    "Now we want to evaluate what the value of the derivative is at a point. We will use a function called .subs() to evaluate the values.\n",
    "\n",
    "The syntax is .subs(x,n) where n us the value we want to use"
   ]
  },
  {
   "cell_type": "code",
   "execution_count": 11,
   "metadata": {},
   "outputs": [
    {
     "data": {
      "image/png": "[encoded data removed]",
      "text/latex": [
       "$\\displaystyle -1$"
      ],
      "text/plain": [
       "-1"
      ]
     },
     "execution_count": 11,
     "metadata": {},
     "output_type": "execute_result"
    }
   ],
   "source": [
    "deriv.subs(x,2)"
   ]
  },
  {
   "cell_type": "markdown",
   "metadata": {},
   "source": [
    "### Assignment\n",
    "\n",
    "For each of the following functions, graph the function and the line tangent to the function at the given point\n",
    "\n",
    "$$ f(x) = x^2 + 4x + 3$$$$  x=2$$"
   ]
  },
  {
   "cell_type": "code",
   "execution_count": 38,
   "metadata": {},
   "outputs": [
    {
     "data": {
      "text/plain": [
       "[<matplotlib.lines.Line2D at 0x199b2b22908>]"
      ]
     },
     "execution_count": 38,
     "metadata": {},
     "output_type": "execute_result"
    },
    {
     "data": {
      "image/png": "[encoded data removed]",
      "text/plain": [
       "<Figure size 432x288 with 1 Axes>"
      ]
     },
     "metadata": {
      "needs_background": "light"
     },
     "output_type": "display_data"
    }
   ],
   "source": [
    "# Define function\n",
    "def f(x): \n",
    "    return x**2+4*x+3\n",
    "\n",
    "# Define  derivative\n",
    "def slope(x): \n",
    "    deriv=diff(f(x2), x2)\n",
    "    return deriv.subs(x2, x)\n",
    "\n",
    "# Define x data range for parabola\n",
    "x = np.linspace(-5,5,100)\n",
    "\n",
    "# Choose point to plot tangent line\n",
    "x1 = 2\n",
    "y1 = f(x1)\n",
    "\n",
    "# Define tangent line\n",
    "# y = m*(x - x1) + y1\n",
    "def line(x, x1, y1):\n",
    "    return slope(x1)*(x - x1) + y1\n",
    "\n",
    "# Define x data range for tangent line\n",
    "xrange = np.linspace(x1-1, x1+1, 10)\n",
    "\n",
    "# Plot the figure\n",
    "plt.figure()\n",
    "plt.plot(x, f(x))\n",
    "plt.scatter(x1, y1)\n",
    "plt.plot(xrange, line(xrange, x1, y1), 'r', linewidth = 2)"
   ]
  },
  {
   "cell_type": "markdown",
   "metadata": {},
   "source": [
    "$$ f(x) = x^x$$ $$x = 1$$"
   ]
  },
  {
   "cell_type": "code",
   "execution_count": 39,
   "metadata": {},
   "outputs": [
    {
     "name": "stderr",
     "output_type": "stream",
     "text": [
      "C:\\Users\\Ahmad\\Anaconda3\\lib\\site-packages\\ipykernel_launcher.py:3: RuntimeWarning: invalid value encountered in power\n",
      "  This is separate from the ipykernel package so we can avoid doing imports until\n"
     ]
    },
    {
     "data": {
      "text/plain": [
       "[<matplotlib.lines.Line2D at 0x199b1695e08>]"
      ]
     },
     "execution_count": 39,
     "metadata": {},
     "output_type": "execute_result"
    },
    {
     "data": {
      "image/png": "[encoded data removed]",
      "text/plain": [
       "<Figure size 432x288 with 1 Axes>"
      ]
     },
     "metadata": {
      "needs_background": "light"
     },
     "output_type": "display_data"
    }
   ],
   "source": [
    "# Define function\n",
    "def f(x): \n",
    "    return x**x\n",
    "\n",
    "# Define derivative\n",
    "def slope(x): \n",
    "    deriv=diff(f(x2), x2)\n",
    "    return deriv.subs(x2, x)\n",
    "\n",
    "# Define x data range for parabola\n",
    "x = np.linspace(-5,5,100)\n",
    "\n",
    "# Choose point to plot tangent line\n",
    "x1 = 1\n",
    "y1 = f(x1)\n",
    "\n",
    "# Define tangent line\n",
    "# y = m*(x - x1) + y1\n",
    "def line(x, x1, y1):\n",
    "    return slope(x1)*(x - x1) + y1\n",
    "\n",
    "# Define x data range for tangent line\n",
    "xrange = np.linspace(x1-1, x1+1, 10)\n",
    "\n",
    "# Plot the figure\n",
    "plt.figure()\n",
    "plt.plot(x, f(x))\n",
    "plt.scatter(x1, y1)\n",
    "plt.plot(xrange, line(xrange, x1, y1), 'r', linewidth = 2)"
   ]
  },
  {
   "cell_type": "markdown",
   "metadata": {},
   "source": [
    "$$ f(x) = 2xe^{-x}cos(x)$$$$x=-1$$"
   ]
  },
  {
   "cell_type": "code",
   "execution_count": 65,
   "metadata": {},
   "outputs": [
    {
     "name": "stdout",
     "output_type": "stream",
     "text": [
      "-1.99969539031278*E\n"
     ]
    },
    {
     "ename": "TypeError",
     "evalue": "only size-1 arrays can be converted to Python scalars",
     "output_type": "error",
     "traceback": [
      "\u001b[1;31m---------------------------------------------------------------------------\u001b[0m",
      "\u001b[1;31mTypeError\u001b[0m                                 Traceback (most recent call last)",
      "\u001b[1;32m<ipython-input-65-c76d589be3aa>\u001b[0m in \u001b[0;36m<module>\u001b[1;34m\u001b[0m\n\u001b[0;32m     25\u001b[0m \u001b[0mxrange\u001b[0m \u001b[1;33m=\u001b[0m \u001b[0mnp\u001b[0m\u001b[1;33m.\u001b[0m\u001b[0mlinspace\u001b[0m\u001b[1;33m(\u001b[0m\u001b[0mx1\u001b[0m\u001b[1;33m-\u001b[0m\u001b[1;36m1\u001b[0m\u001b[1;33m,\u001b[0m \u001b[0mx1\u001b[0m\u001b[1;33m+\u001b[0m\u001b[1;36m1\u001b[0m\u001b[1;33m,\u001b[0m \u001b[1;36m10\u001b[0m\u001b[1;33m)\u001b[0m\u001b[1;33m\u001b[0m\u001b[1;33m\u001b[0m\u001b[0m\n\u001b[0;32m     26\u001b[0m \u001b[1;33m\u001b[0m\u001b[0m\n\u001b[1;32m---> 27\u001b[1;33m \u001b[0mprint\u001b[0m\u001b[1;33m(\u001b[0m\u001b[0mf\u001b[0m\u001b[1;33m(\u001b[0m\u001b[0mx\u001b[0m\u001b[1;33m)\u001b[0m\u001b[1;33m)\u001b[0m\u001b[1;33m\u001b[0m\u001b[1;33m\u001b[0m\u001b[0m\n\u001b[0m\u001b[0;32m     28\u001b[0m \u001b[1;31m# Plot the figure\u001b[0m\u001b[1;33m\u001b[0m\u001b[1;33m\u001b[0m\u001b[1;33m\u001b[0m\u001b[0m\n\u001b[0;32m     29\u001b[0m \u001b[0mplt\u001b[0m\u001b[1;33m.\u001b[0m\u001b[0mfigure\u001b[0m\u001b[1;33m(\u001b[0m\u001b[1;33m)\u001b[0m\u001b[1;33m\u001b[0m\u001b[1;33m\u001b[0m\u001b[0m\n",
      "\u001b[1;32m<ipython-input-65-c76d589be3aa>\u001b[0m in \u001b[0;36mf\u001b[1;34m(x)\u001b[0m\n\u001b[0;32m      2\u001b[0m \u001b[1;31m# Define function\u001b[0m\u001b[1;33m\u001b[0m\u001b[1;33m\u001b[0m\u001b[1;33m\u001b[0m\u001b[0m\n\u001b[0;32m      3\u001b[0m \u001b[1;32mdef\u001b[0m \u001b[0mf\u001b[0m\u001b[1;33m(\u001b[0m\u001b[0mx\u001b[0m\u001b[1;33m)\u001b[0m\u001b[1;33m:\u001b[0m\u001b[1;33m\u001b[0m\u001b[1;33m\u001b[0m\u001b[0m\n\u001b[1;32m----> 4\u001b[1;33m     \u001b[1;32mreturn\u001b[0m \u001b[1;33m(\u001b[0m\u001b[1;36m2\u001b[0m\u001b[1;33m*\u001b[0m\u001b[0mx\u001b[0m\u001b[1;33m*\u001b[0m\u001b[0mexp\u001b[0m\u001b[1;33m(\u001b[0m\u001b[1;33m-\u001b[0m\u001b[0mx\u001b[0m\u001b[1;33m)\u001b[0m\u001b[1;33m*\u001b[0m\u001b[0mcos\u001b[0m\u001b[1;33m(\u001b[0m\u001b[0mmath\u001b[0m\u001b[1;33m.\u001b[0m\u001b[0mradians\u001b[0m\u001b[1;33m(\u001b[0m\u001b[0mx\u001b[0m\u001b[1;33m)\u001b[0m\u001b[1;33m)\u001b[0m\u001b[1;33m)\u001b[0m\u001b[1;33m\u001b[0m\u001b[1;33m\u001b[0m\u001b[0m\n\u001b[0m\u001b[0;32m      5\u001b[0m \u001b[1;33m\u001b[0m\u001b[0m\n\u001b[0;32m      6\u001b[0m \u001b[1;31m# Define derivative\u001b[0m\u001b[1;33m\u001b[0m\u001b[1;33m\u001b[0m\u001b[1;33m\u001b[0m\u001b[0m\n",
      "\u001b[1;31mTypeError\u001b[0m: only size-1 arrays can be converted to Python scalars"
     ]
    }
   ],
   "source": [
    "import math\n",
    "# Define function\n",
    "def f(x): \n",
    "    return (2*x*exp(-x)*cos(math.radians(x)))\n",
    "\n",
    "# Define derivative\n",
    "def slope(x): \n",
    "    deriv=diff(f(x2), x2)\n",
    "    return deriv.subs(x2, x)\n",
    "\n",
    "# Define x data range for parabola\n",
    "x = np.linspace(-2,2,100)\n",
    "#x=2\n",
    "# Choose point to plot tangent line\n",
    "x1 = -1\n",
    "y1 = f(x1)\n",
    "print(y1)\n",
    "\n",
    "# Define tangent line\n",
    "# y = m*(x - x1) + y1\n",
    "def line(x, x1, y1):\n",
    "    return slope(x1)*(x - x1) + y1\n",
    "\n",
    "# Define x data range for tangent line\n",
    "xrange = np.linspace(x1-1, x1+1, 10)\n",
    "\n",
    "print(f(x))\n",
    "# Plot the figure\n",
    "plt.figure()\n",
    "plt.plot(x, f(x))\n",
    "plt.scatter(x1, y1)\n",
    "plt.plot(xrange, line(xrange, x1, y1), 'r', linewidth = 2)"
   ]
  },
  {
   "cell_type": "markdown",
   "metadata": {},
   "source": [
    "$$ f(x) = -x^2 + 6$$$$x=0$$"
   ]
  },
  {
   "cell_type": "code",
   "execution_count": 66,
   "metadata": {},
   "outputs": [
    {
     "data": {
      "text/plain": [
       "[<matplotlib.lines.Line2D at 0x199b31f9488>]"
      ]
     },
     "execution_count": 66,
     "metadata": {},
     "output_type": "execute_result"
    },
    {
     "data": {
      "image/png": "[encoded data removed]",
      "text/plain": [
       "<Figure size 432x288 with 1 Axes>"
      ]
     },
     "metadata": {
      "needs_background": "light"
     },
     "output_type": "display_data"
    }
   ],
   "source": [
    "# Define function\n",
    "def f(x): \n",
    "    return -(x**2)+6\n",
    "\n",
    "# Define derivative\n",
    "def slope(x): \n",
    "    deriv=diff(f(x2), x2)\n",
    "    return deriv.subs(x2, x)\n",
    "\n",
    "# Define x data range for parabola\n",
    "x = np.linspace(-5,5,100)\n",
    "\n",
    "# Choose point to plot tangent line\n",
    "x1 = 0\n",
    "y1 = f(x1)\n",
    "\n",
    "# Define tangent line\n",
    "# y = m*(x - x1) + y1\n",
    "def line(x, x1, y1):\n",
    "    return slope(x1)*(x - x1) + y1\n",
    "\n",
    "# Define x data range for tangent line\n",
    "xrange = np.linspace(x1-1, x1+1, 10)\n",
    "\n",
    "# Plot the figure\n",
    "plt.figure()\n",
    "plt.plot(x, f(x))\n",
    "plt.scatter(x1, y1)\n",
    "plt.plot(xrange, line(xrange, x1, y1), 'r', linewidth = 2)"
   ]
  }
 ],
 "metadata": {
  "kernelspec": {
   "display_name": "Python 3",
   "language": "python",
   "name": "python3"
  },
  "language_info": {
   "codemirror_mode": {
    "name": "ipython",
    "version": 3
   },
   "file_extension": ".py",
   "mimetype": "text/x-python",
   "name": "python",
   "nbconvert_exporter": "python",
   "pygments_lexer": "ipython3",
   "version": "3.7.5"
  }
 },
 "nbformat": 4,
 "nbformat_minor": 2
}
