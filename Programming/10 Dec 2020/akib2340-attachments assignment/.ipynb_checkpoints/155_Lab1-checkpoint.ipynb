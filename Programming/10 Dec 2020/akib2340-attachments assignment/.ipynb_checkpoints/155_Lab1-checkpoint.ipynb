{
 "cells": [
  {
   "cell_type": "markdown",
   "metadata": {},
   "source": [
    "## MAT 155 Lab 1\n",
    "\n",
    "We are going to be using python for this class. Today we are going over some basic commands we will need for ther class.\n",
    "\n",
    "First we need to type a few lines. Every lab will start with these, so make sure you type this out at the start and run the block. As the semester progresses we will add more to this first block of code.\n",
    "\n",
    "Another note is if a line starts with a # symbol, python will not run that line, instead it is a comment for us to see. I strongly reccomend you write a comment above every line you do saying what you want to get done"
   ]
  },
  {
   "cell_type": "code",
   "execution_count": null,
   "metadata": {
    "collapsed": true
   },
   "outputs": [],
   "source": [
    "# This is a comment. First we need to import a couple things we will use.\n",
    "import numpy as np\n",
    "import matplotlib.pyplot as plt\n",
    "fig = plt.figure()\n",
    "%matplotlib inline"
   ]
  },
  {
   "cell_type": "markdown",
   "metadata": {},
   "source": [
    "The first thing we want to set up is how to graph functions.\n",
    "\n",
    "We will first start with graphing a line. One way to do this is to use 2 points."
   ]
  },
  {
   "cell_type": "code",
   "execution_count": null,
   "metadata": {},
   "outputs": [],
   "source": [
    "# We want to graph a line between the points (1,1) and (-2,7)\n",
    "\n",
    "# take the x coordinates\n",
    "x = [1, -2]\n",
    "\n",
    "# take the y coordinates\n",
    "y = [1, 7]\n",
    "\n",
    "plt.plot(x,y)\n",
    "plt.show()\n",
    "'''\n",
    "A nice thing about jupyter is it clears plots after creating them for us.\n",
    "In other python environments we need to clean up the plot after using it.\n",
    "There are several ways to do this, my personal favorite is to use\n",
    "plt.gcf().clear()\n",
    "\n",
    "Also note that the comment I am using is between 3 ' symobols.\n",
    "This is a multi line comment. Similar to the # it makes it so python will not\n",
    "read the text between and you can leave notes for yourselves or others who look at your code.\n",
    "'''\n"
   ]
  },
  {
   "cell_type": "code",
   "execution_count": null,
   "metadata": {
    "collapsed": true
   },
   "outputs": [],
   "source": []
  },
  {
   "cell_type": "markdown",
   "metadata": {},
   "source": [
    "Notice one problem, we have just a line floating in space. Lets set up some axis and get a nicer picture.\n",
    "Don't worry about the code in this block, just know that after ruuning it we can build our plane using the fuction after running the code once."
   ]
  },
  {
   "cell_type": "code",
   "execution_count": null,
   "metadata": {},
   "outputs": [],
   "source": [
    "plt.grid(True)\n",
    "plt.plot(x,y)\n",
    "plt.show()"
   ]
  },
  {
   "cell_type": "markdown",
   "metadata": {},
   "source": [
    "Now graph a line on the same axis between (2,2) and (3,3)"
   ]
  },
  {
   "cell_type": "code",
   "execution_count": null,
   "metadata": {
    "collapsed": true
   },
   "outputs": [],
   "source": [
    "x2 = []\n",
    "y2 = []\n"
   ]
  },
  {
   "cell_type": "markdown",
   "metadata": {},
   "source": [
    "What went wrong? We only made 2 points, so we can only graph what we put made. \n",
    "Lets make more points and use that to graph our line."
   ]
  },
  {
   "cell_type": "code",
   "execution_count": null,
   "metadata": {
    "collapsed": true
   },
   "outputs": [],
   "source": [
    "# First we need some x points\n",
    "\n",
    "# This will make 200 numbers between -10 and 10\n",
    "x_s = np.linspace(-10, 10, 200)\n",
    "\n",
    "# now we need our function. Note that the slope here is -2 and the y intercept is 3\n",
    "y_s = -2*x_s + 3\n",
    "\n",
    "# Now lets graph\n",
    "# build_cartesian_plane(10)\n",
    "plt.grid(True)\n",
    "plt.plot(x_s, y_s)\n",
    "plt.show()\n",
    "plt.clear()"
   ]
  },
  {
   "cell_type": "markdown",
   "metadata": {},
   "source": [
    "Now we want to graph some more functions, like polynomials, exponentials, logrithms, and trig. The functions we will use for each are as follows\n",
    "\n",
    "np.exp(x coord here)\n",
    "\n",
    "np.log(x coord here) Note this is natural log\n",
    "\n",
    "np.log10(x coord here) This is log base 10\n",
    "\n",
    "np.sin(x coord here)\n",
    "\n",
    "To use the numbers pi and e we type np.pi and np.e respectivly"
   ]
  },
  {
   "cell_type": "markdown",
   "metadata": {},
   "source": [
    "In each of the cells below, graph the following functions:\n",
    "y = x^2 - 3x + 4\n",
    "y = e^x\n",
    "y = 2^(x-3)\n",
    "y = ln(x+4) - 1\n",
    "y = 3sin(2x) + 1\n",
    "\n",
    "Also for each function, play around with the numbers in your np.linspace() and see what happens"
   ]
  },
  {
   "cell_type": "code",
   "execution_count": null,
   "metadata": {
    "collapsed": true
   },
   "outputs": [],
   "source": [
    "# graph y = x^2 - 3x + 4"
   ]
  },
  {
   "cell_type": "code",
   "execution_count": null,
   "metadata": {
    "collapsed": true
   },
   "outputs": [],
   "source": [
    "# graph y = e^x"
   ]
  },
  {
   "cell_type": "code",
   "execution_count": null,
   "metadata": {
    "collapsed": true
   },
   "outputs": [],
   "source": [
    "# graph y = 2^(x-3)"
   ]
  },
  {
   "cell_type": "code",
   "execution_count": null,
   "metadata": {
    "collapsed": true
   },
   "outputs": [],
   "source": [
    "# graph y = ln(x+4) - 1\n",
    "# note that here we need to be careful of our domain.\n",
    "# We have to change our np.linspace()\n",
    "x_s = np.linspace(-4, 10, 200)"
   ]
  },
  {
   "cell_type": "code",
   "execution_count": null,
   "metadata": {
    "collapsed": true
   },
   "outputs": [],
   "source": [
    "# graph y = 3sin(2x) + 1"
   ]
  }
 ],
 "metadata": {
  "kernelspec": {
   "display_name": "Python 3",
   "language": "python",
   "name": "python3"
  },
  "language_info": {
   "codemirror_mode": {
    "name": "ipython",
    "version": 3
   },
   "file_extension": ".py",
   "mimetype": "text/x-python",
   "name": "python",
   "nbconvert_exporter": "python",
   "pygments_lexer": "ipython3",
   "version": "3.7.5"
  }
 },
 "nbformat": 4,
 "nbformat_minor": 2
}
