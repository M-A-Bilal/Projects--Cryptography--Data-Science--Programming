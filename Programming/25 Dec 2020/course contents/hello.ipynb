#!/usr/bin/env python
# coding: utf-8

# In[1]:


def myfunc():
    print("Hello COMP 125!")


# In[ ]:




